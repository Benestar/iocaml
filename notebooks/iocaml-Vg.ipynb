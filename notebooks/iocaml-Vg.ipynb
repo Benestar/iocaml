{
 "metadata": {
  "language": "ocaml",
  "name": ""
 },
 "nbformat": 3,
 "nbformat_minor": 0,
 "worksheets": [
  {
   "cells": [
    {
     "cell_type": "code",
     "collapsed": false,
     "input": [
      "#require \"vg,vg.svg\""
     ],
     "language": "python",
     "metadata": {},
     "outputs": [
      {
       "output_type": "stream",
       "stream": "stderr",
       "text": [
        "/home/andyman/.opam/4.01.0-dev/lib/gg: added to search path\n",
        "/home/andyman/.opam/4.01.0-dev/lib/gg/gg.cma: loaded\n"
       ]
      },
      {
       "output_type": "stream",
       "stream": "stderr",
       "text": [
        "/home/andyman/.opam/4.01.0-dev/lib/gg/gg_top.cma: loaded\n"
       ]
      },
      {
       "output_type": "stream",
       "stream": "stderr",
       "text": [
        "/home/andyman/.opam/4.01.0-dev/lib/vg: added to search path\n",
        "/home/andyman/.opam/4.01.0-dev/lib/vg/vg.cma: loaded\n"
       ]
      },
      {
       "output_type": "stream",
       "stream": "stderr",
       "text": [
        "/home/andyman/.opam/4.01.0-dev/lib/vg/vgr_svg.cma: loaded\n"
       ]
      },
      {
       "output_type": "stream",
       "stream": "stdout",
       "text": []
      }
     ],
     "prompt_number": 1
    },
    {
     "cell_type": "code",
     "collapsed": false,
     "input": [
      "open Gg\n",
      "open Vg"
     ],
     "language": "python",
     "metadata": {},
     "outputs": [
      {
       "output_type": "stream",
       "stream": "stdout",
       "text": []
      }
     ],
     "prompt_number": 2
    },
    {
     "cell_type": "code",
     "collapsed": false,
     "input": [
      "type svg_render = Gg.size2 * Gg.box2 * Vg.image"
     ],
     "language": "python",
     "metadata": {},
     "outputs": [
      {
       "output_type": "stream",
       "stream": "stdout",
       "text": [
        "type svg_render = Gg.size2 * Gg.box2 * Vg.image\n"
       ]
      }
     ],
     "prompt_number": 3
    },
    {
     "cell_type": "code",
     "collapsed": false,
     "input": [
      "let print_svg (size,view,image) = \n",
      "    let r = Vgr.create (Vgr_svg.target()) (`Channel Iocaml.mime) in\n",
      "    ignore (Vgr.render r (`Image (size, view, image)));\n",
      "    ignore (Vgr.render r `End);\n",
      "    Pervasives.flush Iocaml.mime;\n",
      "    Iocaml.send_mime \"image/svg+xml\"\n",
      "    (*Iocaml.send_mime \"text/html\"*)"
     ],
     "language": "python",
     "metadata": {},
     "outputs": [
      {
       "output_type": "stream",
       "stream": "stdout",
       "text": [
        "val print_svg : Gg.size2 * Gg.box2 * Vg.image -> unit = <fun>\n"
       ]
      }
     ],
     "prompt_number": 4
    },
    {
     "cell_type": "code",
     "collapsed": false,
     "input": [
      "let gray = I.const (Gg.Color.gray 0.9)"
     ],
     "language": "python",
     "metadata": {},
     "outputs": [
      {
       "output_type": "stream",
       "stream": "stdout",
       "text": [
        "val gray : Vg.image = <abstr>\n"
       ]
      }
     ],
     "prompt_number": 5
    },
    {
     "cell_type": "code",
     "collapsed": false,
     "input": [
      "print_svg (Size2.v 30. 30., Box2.unit, gray)"
     ],
     "language": "python",
     "metadata": {},
     "outputs": [
      {
       "metadata": {},
       "output_type": "display_data",
       "svg": [
        "<?xml version=\"1.0\" encoding=\"UTF-8\"?>\n",
        "<svg xmlns=\"http://www.w3.org/2000/svg\" xmlns:l=\"http://www.w3.org/1999/xlink\" version=\"1.1\" width=\"30mm\" height=\"30mm\" viewBox=\"0 0 30 30\" color-profile=\"auto\" color-interpolation=\"linearRGB\" color-interpolation-filters=\"linearRGB\"><g fill=\"none\" stroke-miterlimit=\"9.98123\" transform=\"matrix(30 0 0 -30 -0 30)\"><defs><path id=\"i1\" d=\"M0 0L1 0L1 1L0 1Z\"/></defs><use l:href=\"#i1\" fill=\"#E6E6E6\"/></g></svg>"
       ]
      },
      {
       "output_type": "stream",
       "stream": "stdout",
       "text": [
        "- : unit = ()\n"
       ]
      }
     ],
     "prompt_number": 7
    },
    {
     "cell_type": "markdown",
     "metadata": {},
     "source": [
      "Hmmm.  Why doesn't that work?"
     ]
    },
    {
     "cell_type": "code",
     "collapsed": false,
     "input": [
      "(* 1. Define your image *)\n",
      "\n",
      "let aspect = 1.618  \n",
      "let size = Size2.v (aspect *. 100.) 100. (* mm *)\n",
      "let view = Box2.v P2.o (Size2.v aspect 1.)\n",
      "let image = I.const (Color.v_srgb 0.314 0.784 0.471)\n",
      "\n",
      "(* 2. Render *)\n",
      "\n",
      "let render () = \n",
      "  let title = \"Vgr_svg minimal example\" in \n",
      "  let description = \"Emerald Color\" in \n",
      "  let xmp = Vgr.xmp ~title ~description () in\n",
      "  let warn w = Vgr.pp_warning Format.err_formatter w in\n",
      "  let r = Vgr.create ~warn (Vgr_svg.target ~xmp ()) (`Channel Iocaml.mime) in\n",
      "  ignore (Vgr.render r (`Image (size, view, image))); \n",
      "  ignore (Vgr.render r `End);\n",
      "  Iocaml.send_mime \"image/svg+xml\""
     ],
     "language": "python",
     "metadata": {},
     "outputs": [
      {
       "output_type": "stream",
       "stream": "stdout",
       "text": [
        "val aspect : float = 1.618\n",
        "val size : Gg.size2 = (161.8 100)\n",
        "val view : Gg.box2 = <box2 (0 0) (1.618 1)>\n",
        "val image : Vg.image = <abstr>\n",
        "val render : unit -> unit = <fun>\n"
       ]
      }
     ],
     "prompt_number": 17
    },
    {
     "cell_type": "code",
     "collapsed": false,
     "input": [
      "render()"
     ],
     "language": "python",
     "metadata": {},
     "outputs": [
      {
       "metadata": {},
       "output_type": "display_data",
       "svg": [
        "<?xml version=\"1.0\" encoding=\"UTF-8\"?>\n",
        "<svg xmlns=\"http://www.w3.org/2000/svg\" xmlns:l=\"http://www.w3.org/1999/xlink\" version=\"1.1\" width=\"161.8mm\" height=\"100mm\" viewBox=\"0 0 161.8 100\" color-profile=\"auto\" color-interpolation=\"linearRGB\" color-interpolation-filters=\"linearRGB\"><?xpacket begin=\"\u00ef\u00bb\u00bf\" id=\"W5M0MpCehiHzreSzNTczkc9d\"?><x:xmpmeta xmlns:x=\"adobe:ns:meta/\"><r:RDF xmlns:r=\"http://www.w3.org/1999/02/22-rdf-syntax-ns#\" xmlns:d=\"http://purl.org/dc/elements/1.1/\" xmlns:x=\"http://ns.adobe.com/xap/1.0/\"><r:Description r:about=\"\"><d:title><r:Alt><r:li xml:lang=\"x-default\">Vgr_svg minimal example</r:li></r:Alt></d:title><d:description><r:Alt><r:li xml:lang=\"x-default\">Emerald Color</r:li></r:Alt></d:description></r:Description></r:RDF></x:xmpmeta><?xpacket end=\"w\"?><g fill=\"none\" stroke-miterlimit=\"9.98123\" transform=\"matrix(100 0 0 -100 -0 100)\"><defs><path id=\"i1\" d=\"M0 0L1.618 0L1.618 1L0 1Z\"/></defs><use l:href=\"#i1\" fill=\"#50C878\"/></g></svg>"
       ]
      },
      {
       "output_type": "stream",
       "stream": "stdout",
       "text": [
        "- : unit = ()\n"
       ]
      }
     ],
     "prompt_number": 18
    },
    {
     "cell_type": "code",
     "collapsed": false,
     "input": [
      "#require \"vg.htmlc\""
     ],
     "language": "python",
     "metadata": {},
     "outputs": []
    },
    {
     "cell_type": "code",
     "collapsed": false,
     "input": [
      "  let r = Vgr.create (Vgr_htmlc.target c) `Other in   (* 4 *)\n",
      "  ignore (Vgr.render r (`Image (size, view, image))); (* 5 *)\n",
      "  ignore (Vgr.render r `End);"
     ],
     "language": "python",
     "metadata": {},
     "outputs": [
      {
       "output_type": "stream",
       "stream": "stderr",
       "text": [
        "File \"[19]\", line 1, characters 22-38:\n",
        "Error: Unbound module Vgr_htmlc\n"
       ]
      }
     ],
     "prompt_number": 19
    },
    {
     "cell_type": "code",
     "collapsed": false,
     "input": [],
     "language": "python",
     "metadata": {},
     "outputs": []
    }
   ],
   "metadata": {}
  }
 ]
}