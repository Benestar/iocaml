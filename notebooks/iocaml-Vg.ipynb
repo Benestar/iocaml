{
 "metadata": {
  "language": "ocaml",
  "name": ""
 },
 "nbformat": 3,
 "nbformat_minor": 0,
 "worksheets": [
  {
   "cells": [
    {
     "cell_type": "code",
     "collapsed": false,
     "input": [
      "#require \"vg,vg.svg\""
     ],
     "language": "python",
     "metadata": {},
     "outputs": [
      {
       "output_type": "stream",
       "stream": "stdout",
       "text": []
      }
     ],
     "prompt_number": 1
    },
    {
     "cell_type": "code",
     "collapsed": false,
     "input": [
      "open Gg\n",
      "open Vg"
     ],
     "language": "python",
     "metadata": {},
     "outputs": [
      {
       "output_type": "stream",
       "stream": "stdout",
       "text": []
      }
     ],
     "prompt_number": 2
    },
    {
     "cell_type": "code",
     "collapsed": false,
     "input": [
      "type svg_render = Gg.size2 * Gg.box2 * Vg.image"
     ],
     "language": "python",
     "metadata": {},
     "outputs": [
      {
       "output_type": "stream",
       "stream": "stdout",
       "text": [
        "type svg_render = Gg.size2 * Gg.box2 * Vg.image\n"
       ]
      }
     ],
     "prompt_number": 3
    },
    {
     "cell_type": "code",
     "collapsed": false,
     "input": [
      "let print_svg (size,view,image) = \n",
      "    let r = Vgr.create (Vgr_svg.target ~xml_decl:false ()) (`Channel Iocaml.mime) in\n",
      "    ignore (Vgr.render r (`Image (size, view, image)));\n",
      "    ignore (Vgr.render r `End);\n",
      "    Pervasives.flush Iocaml.mime;\n",
      "    Iocaml.send_mime \"image/svg+xml\"\n",
      "    (*Iocaml.send_mime \"text/html\"*)"
     ],
     "language": "python",
     "metadata": {},
     "outputs": [
      {
       "output_type": "stream",
       "stream": "stdout",
       "text": [
        "val print_svg : Gg.size2 * Gg.box2 * Vg.image -> unit = <fun>\n"
       ]
      }
     ],
     "prompt_number": 18
    },
    {
     "cell_type": "code",
     "collapsed": false,
     "input": [
      "let gray = I.const (Gg.Color.gray 0.9)"
     ],
     "language": "python",
     "metadata": {},
     "outputs": [
      {
       "output_type": "stream",
       "stream": "stdout",
       "text": [
        "val gray : Vg.image = <abstr>\n"
       ]
      }
     ],
     "prompt_number": 19
    },
    {
     "cell_type": "code",
     "collapsed": false,
     "input": [
      "print_svg (Size2.v 30. 30., Box2.unit, gray)"
     ],
     "language": "python",
     "metadata": {},
     "outputs": [
      {
       "metadata": {},
       "output_type": "display_data",
       "svg": [
        "<svg xmlns=\"http://www.w3.org/2000/svg\" xmlns:l=\"http://www.w3.org/1999/xlink\" version=\"1.1\" width=\"30mm\" height=\"30mm\" viewBox=\"0 0 30 30\" color-profile=\"auto\" color-interpolation=\"linearRGB\" color-interpolation-filters=\"linearRGB\"><g fill=\"none\" stroke-miterlimit=\"9.98123\" transform=\"matrix(30 0 0 -30 -0 30)\"><defs><path id=\"i1\" d=\"M0 0L1 0L1 1L0 1Z\"/></defs><use l:href=\"#i1\" fill=\"#E6E6E6\"/></g></svg>"
       ]
      },
      {
       "output_type": "stream",
       "stream": "stdout",
       "text": [
        "- : unit = ()\n"
       ]
      }
     ],
     "prompt_number": 20
    },
    {
     "cell_type": "markdown",
     "metadata": {},
     "source": [
      "Hmmm.  Why doesn't that work?"
     ]
    },
    {
     "cell_type": "code",
     "collapsed": false,
     "input": [
      "(* 1. Define your image *)\n",
      "\n",
      "let aspect = 1.618  \n",
      "let size = Size2.v (aspect *. 100.) 100. (* mm *)\n",
      "let view = Box2.v P2.o (Size2.v aspect 1.)\n",
      "let image = I.const (Color.v_srgb 0.314 0.784 0.471)\n",
      "\n",
      "(* 2. Render *)\n",
      "\n",
      "let render () = \n",
      "  (*let title = \"Vgr_svg minimal example\" in \n",
      "  let description = \"Emerald Color\" in \n",
      "  let xmp = Vgr.xmp ~title ~description () in *)\n",
      "  let warn w = Vgr.pp_warning Format.err_formatter w in\n",
      "  let r = Vgr.create ~warn (Vgr_svg.target ~xml_decl:false (*~xmp*) ()) (`Channel Iocaml.mime) in\n",
      "  ignore (Vgr.render r (`Image (size, view, image))); \n",
      "  ignore (Vgr.render r `End);\n",
      "  Iocaml.send_mime \"image/svg+xml\""
     ],
     "language": "python",
     "metadata": {},
     "outputs": [
      {
       "output_type": "stream",
       "stream": "stdout",
       "text": [
        "val aspect : float = 1.618\n",
        "val size : Gg.size2 = (161.8 100)\n",
        "val view : Gg.box2 = <box2 (0 0) (1.618 1)>\n",
        "val image : Vg.image = <abstr>\n",
        "val render : unit -> unit = <fun>\n"
       ]
      }
     ],
     "prompt_number": 22
    },
    {
     "cell_type": "code",
     "collapsed": false,
     "input": [
      "render()"
     ],
     "language": "python",
     "metadata": {},
     "outputs": [
      {
       "metadata": {},
       "output_type": "display_data",
       "svg": [
        "<svg xmlns=\"http://www.w3.org/2000/svg\" xmlns:l=\"http://www.w3.org/1999/xlink\" version=\"1.1\" width=\"161.8mm\" height=\"100mm\" viewBox=\"0 0 161.8 100\" color-profile=\"auto\" color-interpolation=\"linearRGB\" color-interpolation-filters=\"linearRGB\"><g fill=\"none\" stroke-miterlimit=\"9.98123\" transform=\"matrix(100 0 0 -100 -0 100)\"><defs><path id=\"i1\" d=\"M0 0L1.618 0L1.618 1L0 1Z\"/></defs><use l:href=\"#i1\" fill=\"#50C878\"/></g></svg>"
       ]
      },
      {
       "output_type": "stream",
       "stream": "stdout",
       "text": [
        "- : unit = ()\n"
       ]
      }
     ],
     "prompt_number": 23
    },
    {
     "cell_type": "code",
     "collapsed": false,
     "input": [
      "#require \"vg.htmlc\""
     ],
     "language": "python",
     "metadata": {},
     "outputs": [
      {
       "output_type": "stream",
       "stream": "stdout",
       "text": [
        "No such package: vg.htmlc\n"
       ]
      },
      {
       "output_type": "stream",
       "stream": "stdout",
       "text": []
      }
     ],
     "prompt_number": 9
    },
    {
     "cell_type": "code",
     "collapsed": false,
     "input": [
      "  let r = Vgr.create (Vgr_htmlc.target c) `Other in   (* 4 *)\n",
      "  ignore (Vgr.render r (`Image (size, view, image))); (* 5 *)\n",
      "  ignore (Vgr.render r `End);"
     ],
     "language": "python",
     "metadata": {},
     "outputs": [
      {
       "output_type": "stream",
       "stream": "stderr",
       "text": [
        "File \"[10]\", line 1, characters 22-38:\n",
        "Error: Unbound module Vgr_htmlc\n",
        "Characters 22-38:\n",
        "    let r = Vgr.create (Vgr_htmlc.target c) `Other in   (* 4 *)\n",
        "                        ^^^^^^^^^^^^^^^^\n"
       ]
      }
     ],
     "prompt_number": 10
    },
    {
     "cell_type": "code",
     "collapsed": false,
     "input": [
      "  let size = (Size2.v 90. 138.) \n",
      "  let view = (Box2.v P2.o (Size2.v 1.5 2.3)) \n",
      "  let f = begin fun _ ->\n",
      "    let pie_chart r colors pcts =\n",
      "      let rv = V2.v r r in\n",
      "      let sector (acc, start) color pct =\n",
      "        let stop = start +. (pct /. 100.) *. Float.two_pi in\n",
      "        let sector = \n",
      "          P.empty >> \n",
      "          P.line (V2.polar r start) >> P.earc rv (V2.polar r stop) >> \n",
      "          P.line P2.o \n",
      "        in\n",
      "        acc >> I.blend (color >> I.cut sector), stop\n",
      "      in\n",
      "      fst (List.fold_left2 sector (I.void, Float.pi_div_2) colors pcts)\n",
      "    in\n",
      "    let bar_chart bar_size pad colors pcts = \n",
      "      let w, h = V2.to_tuple bar_size in\n",
      "      let font = \n",
      "        { Font.name = \"Open Sans\"; slant = `Normal; weight = `W400; \n",
      "          size = (h *. 0.015) } \n",
      "      in\n",
      "      let mgray = I.const (Color.gray 0.3) in \n",
      "      let lgray = I.const (Color.gray 0.75) in\n",
      "      let bar (acc, x) color pct = \n",
      "        let bar = \n",
      "          let box = Box2.v P2.o (Size2.v w ((pct /. 100.) *. h)) in\n",
      "          color >> I.cut (P.empty >> P.rect box) \n",
      "        in\n",
      "        let label =\n",
      "          let text = Printf.sprintf \"%g\" pct in\n",
      "          let pos = P2.v (0.275 *. w) (-1.4 *. font.Font.size) in \n",
      "          mgray >> I.cut_glyphs ~text font [] >> I.move pos\n",
      "        in\n",
      "        let x = x +. pad in \n",
      "        acc >> I.blend (bar >> I.blend label >> I.move (V2.v x 0.)), x +. w\n",
      "      in\n",
      "      let bars, xmax = List.fold_left2 bar (I.void, 0.) colors pcts in\n",
      "      let floor = \n",
      "        let ln = P.empty >> P.sub (P2.v pad 0.) >> P.line (P2.v xmax 0.) in\n",
      "        lgray >> I.cut ~area:(`O { P.o with P.width = h *. 0.001 }) ln\n",
      "      in\n",
      "      bars >> I.blend floor\n",
      "    in \n",
      "    let distribs = [[ 23.; 22.; 20.; 18.; 17.];\n",
      "                    [ 20.; 20.; 19.; 21.; 20.];\n",
      "                    [ 17.; 18.; 20.; 22.; 23.]]\n",
      "    in\n",
      "    let colors =                   (* Brewer's Set2, http://colorbrewer.org/ *)\n",
      "      let c r g b = I.const (Color.v_srgbi r g b) in \n",
      "      [c 102 194 165; c 252 141 98; c 141 160 203; c 231 138 195; c 166 216 84]\n",
      "    in\n",
      "    let bar_and_pie (acc, y) pcts = \n",
      "      let pie = pie_chart 0.25 colors pcts in\n",
      "      let bars = bar_chart (Size2.v 0.08 2.) 0.04 colors pcts in\n",
      "      let bp = bars >> I.blend (pie >> I.move (V2.v 1.0 0.25)) in\n",
      "      acc >> I.blend (bp >> I.move (V2.v 0. y)), y +. 0.75\n",
      "    in\n",
      "    let white = I.const Color.white in\n",
      "    let charts = fst (List.fold_left bar_and_pie (white, 0.) distribs) in\n",
      "    charts >> I.move (V2.v 0.125 0.15)\n",
      "  end"
     ],
     "language": "python",
     "metadata": {},
     "outputs": [
      {
       "output_type": "stream",
       "stream": "stdout",
       "text": [
        "val size : Gg.size2 = (90 138)\n",
        "val view : Gg.box2 = <box2 (0 0) (1.5 2.3)>\n",
        "val f : 'a -> Vg.image = <fun>\n"
       ]
      }
     ],
     "prompt_number": 5
    },
    {
     "cell_type": "code",
     "collapsed": false,
     "input": [
      "print_svg (size,view,f())"
     ],
     "language": "python",
     "metadata": {},
     "outputs": [
      {
       "metadata": {},
       "output_type": "display_data",
       "svg": [
        "<?xml version=\"1.0\" encoding=\"UTF-8\"?>\n",
        "<svg xmlns=\"http://www.w3.org/2000/svg\" xmlns:l=\"http://www.w3.org/1999/xlink\" version=\"1.1\" width=\"90mm\" height=\"138mm\" viewBox=\"0 0 90 138\" color-profile=\"auto\" color-interpolation=\"linearRGB\" color-interpolation-filters=\"linearRGB\"><g fill=\"none\" stroke-miterlimit=\"9.98123\" transform=\"matrix(60 0 0 -60 -0 138)\"><g transform=\"translate(0.125 0.15)\"><defs><path id=\"i1\" d=\"M-0.125 -0.15L1.375 -0.15L1.375 2.15L-0.125 2.15Z\"/></defs><use l:href=\"#i1\" fill=\"#FFFFFF\"/><g transform=\"translate(0 0)\"><use l:href=\"#i1\" fill=\"#000000\" fill-opacity=\"0\"/><g transform=\"translate(0.04 0)\"><defs><path id=\"i2\" d=\"M0 0L0.08 0L0.08 0.46L0 0.46Z\"/></defs><use l:href=\"#i2\" fill=\"#66C2A5\"/><g transform=\"translate(0.022 -0.042)\"><text transform=\"scale(1,-1)\" font-family=\"Open Sans\" font-style=\"normal\" font-weight=\"400\" font-size=\"0.03\"  fill=\"#4D4D4D\">23</text></g></g><g transform=\"translate(0.16 0)\"><defs><path id=\"i3\" d=\"M0 0L0.08 0L0.08 0.44L0 0.44Z\"/></defs><use l:href=\"#i3\" fill=\"#FC8D62\"/><g transform=\"translate(0.022 -0.042)\"><text transform=\"scale(1,-1)\" font-family=\"Open Sans\" font-style=\"normal\" font-weight=\"400\" font-size=\"0.03\"  fill=\"#4D4D4D\">22</text></g></g><g transform=\"translate(0.28 0)\"><defs><path id=\"i4\" d=\"M0 0L0.08 0L0.08 0.4L0 0.4Z\"/></defs><use l:href=\"#i4\" fill=\"#8DA0CB\"/><g transform=\"translate(0.022 -0.042)\"><text transform=\"scale(1,-1)\" font-family=\"Open Sans\" font-style=\"normal\" font-weight=\"400\" font-size=\"0.03\"  fill=\"#4D4D4D\">20</text></g></g><g transform=\"translate(0.4 0)\"><defs><path id=\"i5\" d=\"M0 0L0.08 0L0.08 0.36L0 0.36Z\"/></defs><use l:href=\"#i5\" fill=\"#E78AC3\"/><g transform=\"translate(0.022 -0.042)\"><text transform=\"scale(1,-1)\" font-family=\"Open Sans\" font-style=\"normal\" font-weight=\"400\" font-size=\"0.03\"  fill=\"#4D4D4D\">18</text></g></g><g transform=\"translate(0.52 0)\"><defs><path id=\"i6\" d=\"M0 0L0.08 0L0.08 0.34L0 0.34Z\"/></defs><use l:href=\"#i6\" fill=\"#A6D854\"/><g transform=\"translate(0.022 -0.042)\"><text transform=\"scale(1,-1)\" font-family=\"Open Sans\" font-style=\"normal\" font-weight=\"400\" font-size=\"0.03\"  fill=\"#4D4D4D\">17</text></g></g><defs><path id=\"i7\" d=\"M0.04 0L0.6 0\"/></defs><use l:href=\"#i7\" stroke-width=\"0.002\" stroke=\"#BFBFBF\"/><g transform=\"translate(1 0.25)\"><defs><path id=\"i8\" d=\"M-1.125 -0.4L0.375 -0.4L0.375 1.9L-1.125 1.9Z\"/></defs><use l:href=\"#i8\" fill=\"#000000\" fill-opacity=\"0\"/><defs><path id=\"i9\" d=\"M0 0L1.53081e-17 0.25A 0.25 0.25 0 0 1 -0.248029 0.0313333L0 0\"/></defs><use l:href=\"#i9\" fill=\"#66C2A5\"/><defs><path id=\"i10\" d=\"M0 0L-0.248029 0.0313333A 0.25 0.25 0 0 1 -0.0772542 -0.237764L0 0\"/></defs><use l:href=\"#i10\" fill=\"#FC8D62\"/><defs><path id=\"i11\" d=\"M0 0L-0.0772542 -0.237764A 0.25 0.25 0 0 1 0.202254 -0.146946L0 0\"/></defs><use l:href=\"#i11\" fill=\"#8DA0CB\"/><defs><path id=\"i12\" d=\"M0 0L0.202254 -0.146946A 0.25 0.25 0 0 1 0.219077 0.120438L0 0\"/></defs><use l:href=\"#i12\" fill=\"#E78AC3\"/><defs><path id=\"i13\" d=\"M0 0L0.219077 0.120438A 0.25 0.25 0 0 1 7.65404e-17 0.25L0 0\"/></defs><use l:href=\"#i13\" fill=\"#A6D854\"/></g></g><g transform=\"translate(0 0.75)\"><defs><path id=\"i14\" d=\"M-0.125 -0.9L1.375 -0.9L1.375 1.4L-0.125 1.4Z\"/></defs><use l:href=\"#i14\" fill=\"#000000\" fill-opacity=\"0\"/><g transform=\"translate(0.04 0)\"><use l:href=\"#i4\" fill=\"#66C2A5\"/><g transform=\"translate(0.022 -0.042)\"><text transform=\"scale(1,-1)\" font-family=\"Open Sans\" font-style=\"normal\" font-weight=\"400\" font-size=\"0.03\"  fill=\"#4D4D4D\">20</text></g></g><g transform=\"translate(0.16 0)\"><use l:href=\"#i4\" fill=\"#FC8D62\"/><g transform=\"translate(0.022 -0.042)\"><text transform=\"scale(1,-1)\" font-family=\"Open Sans\" font-style=\"normal\" font-weight=\"400\" font-size=\"0.03\"  fill=\"#4D4D4D\">20</text></g></g><g transform=\"translate(0.28 0)\"><defs><path id=\"i15\" d=\"M0 0L0.08 0L0.08 0.38L0 0.38Z\"/></defs><use l:href=\"#i15\" fill=\"#8DA0CB\"/><g transform=\"translate(0.022 -0.042)\"><text transform=\"scale(1,-1)\" font-family=\"Open Sans\" font-style=\"normal\" font-weight=\"400\" font-size=\"0.03\"  fill=\"#4D4D4D\">19</text></g></g><g transform=\"translate(0.4 0)\"><defs><path id=\"i16\" d=\"M0 0L0.08 0L0.08 0.42L0 0.42Z\"/></defs><use l:href=\"#i16\" fill=\"#E78AC3\"/><g transform=\"translate(0.022 -0.042)\"><text transform=\"scale(1,-1)\" font-family=\"Open Sans\" font-style=\"normal\" font-weight=\"400\" font-size=\"0.03\"  fill=\"#4D4D4D\">21</text></g></g><g transform=\"translate(0.52 0)\"><use l:href=\"#i4\" fill=\"#A6D854\"/><g transform=\"translate(0.022 -0.042)\"><text transform=\"scale(1,-1)\" font-family=\"Open Sans\" font-style=\"normal\" font-weight=\"400\" font-size=\"0.03\"  fill=\"#4D4D4D\">20</text></g></g><use l:href=\"#i7\" stroke-width=\"0.002\" stroke=\"#BFBFBF\"/><g transform=\"translate(1 0.25)\"><defs><path id=\"i17\" d=\"M-1.125 -1.15L0.375 -1.15L0.375 1.15L-1.125 1.15Z\"/></defs><use l:href=\"#i17\" fill=\"#000000\" fill-opacity=\"0\"/><defs><path id=\"i18\" d=\"M0 0L1.53081e-17 0.25A 0.25 0.25 0 0 1 -0.237764 0.0772542L0 0\"/></defs><use l:href=\"#i18\" fill=\"#66C2A5\"/><defs><path id=\"i19\" d=\"M0 0L-0.237764 0.0772542A 0.25 0.25 0 0 1 -0.146946 -0.202254L0 0\"/></defs><use l:href=\"#i19\" fill=\"#FC8D62\"/><defs><path id=\"i20\" d=\"M0 0L-0.146946 -0.202254A 0.25 0.25 0 0 1 0.133957 -0.211082L0 0\"/></defs><use l:href=\"#i20\" fill=\"#8DA0CB\"/><defs><path id=\"i21\" d=\"M0 0L0.133957 -0.211082A 0.25 0.25 0 0 1 0.237764 0.0772542L0 0\"/></defs><use l:href=\"#i21\" fill=\"#E78AC3\"/><defs><path id=\"i22\" d=\"M0 0L0.237764 0.0772542A 0.25 0.25 0 0 1 7.65404e-17 0.25L0 0\"/></defs><use l:href=\"#i22\" fill=\"#A6D854\"/></g></g><g transform=\"translate(0 1.5)\"><defs><path id=\"i23\" d=\"M-0.125 -1.65L1.375 -1.65L1.375 0.65L-0.125 0.65Z\"/></defs><use l:href=\"#i23\" fill=\"#000000\" fill-opacity=\"0\"/><g transform=\"translate(0.04 0)\"><use l:href=\"#i6\" fill=\"#66C2A5\"/><g transform=\"translate(0.022 -0.042)\"><text transform=\"scale(1,-1)\" font-family=\"Open Sans\" font-style=\"normal\" font-weight=\"400\" font-size=\"0.03\"  fill=\"#4D4D4D\">17</text></g></g><g transform=\"translate(0.16 0)\"><use l:href=\"#i5\" fill=\"#FC8D62\"/><g transform=\"translate(0.022 -0.042)\"><text transform=\"scale(1,-1)\" font-family=\"Open Sans\" font-style=\"normal\" font-weight=\"400\" font-size=\"0.03\"  fill=\"#4D4D4D\">18</text></g></g><g transform=\"translate(0.28 0)\"><use l:href=\"#i4\" fill=\"#8DA0CB\"/><g transform=\"translate(0.022 -0.042)\"><text transform=\"scale(1,-1)\" font-family=\"Open Sans\" font-style=\"normal\" font-weight=\"400\" font-size=\"0.03\"  fill=\"#4D4D4D\">20</text></g></g><g transform=\"translate(0.4 0)\"><use l:href=\"#i3\" fill=\"#E78AC3\"/><g transform=\"translate(0.022 -0.042)\"><text transform=\"scale(1,-1)\" font-family=\"Open Sans\" font-style=\"normal\" font-weight=\"400\" font-size=\"0.03\"  fill=\"#4D4D4D\">22</text></g></g><g transform=\"translate(0.52 0)\"><use l:href=\"#i2\" fill=\"#A6D854\"/><g transform=\"translate(0.022 -0.042)\"><text transform=\"scale(1,-1)\" font-family=\"Open Sans\" font-style=\"normal\" font-weight=\"400\" font-size=\"0.03\"  fill=\"#4D4D4D\">23</text></g></g><use l:href=\"#i7\" stroke-width=\"0.002\" stroke=\"#BFBFBF\"/><g transform=\"translate(1 0.25)\"><defs><path id=\"i24\" d=\"M-1.125 -1.9L0.375 -1.9L0.375 0.4L-1.125 0.4Z\"/></defs><use l:href=\"#i24\" fill=\"#000000\" fill-opacity=\"0\"/><defs><path id=\"i25\" d=\"M0 0L1.53081e-17 0.25A 0.25 0.25 0 0 1 -0.219077 0.120438L0 0\"/></defs><use l:href=\"#i25\" fill=\"#66C2A5\"/><defs><path id=\"i26\" d=\"M0 0L-0.219077 0.120438A 0.25 0.25 0 0 1 -0.202254 -0.146946L0 0\"/></defs><use l:href=\"#i26\" fill=\"#FC8D62\"/><defs><path id=\"i27\" d=\"M0 0L-0.202254 -0.146946A 0.25 0.25 0 0 1 0.0772542 -0.237764L0 0\"/></defs><use l:href=\"#i27\" fill=\"#8DA0CB\"/><defs><path id=\"i28\" d=\"M0 0L0.0772542 -0.237764A 0.25 0.25 0 0 1 0.248029 0.0313333L0 0\"/></defs><use l:href=\"#i28\" fill=\"#E78AC3\"/><defs><path id=\"i29\" d=\"M0 0L0.248029 0.0313333A 0.25 0.25 0 0 1 7.65404e-17 0.25L0 0\"/></defs><use l:href=\"#i29\" fill=\"#A6D854\"/></g></g></g></g></svg>"
       ]
      },
      {
       "output_type": "stream",
       "stream": "stdout",
       "text": [
        "- : unit = ()\n"
       ]
      }
     ],
     "prompt_number": 10
    },
    {
     "cell_type": "markdown",
     "metadata": {},
     "source": [
      "So we see something here.  This is the same as the ubuntu image viewer shows when it renders the example after downloading from the website."
     ]
    },
    {
     "cell_type": "code",
     "collapsed": false,
     "input": [
      "#require \"cow,cow.syntax\""
     ],
     "language": "python",
     "metadata": {},
     "outputs": [
      {
       "output_type": "stream",
       "stream": "stdout",
       "text": []
      }
     ],
     "prompt_number": 1
    },
    {
     "cell_type": "code",
     "collapsed": false,
     "input": [
      "let x = <:html<\n",
      "\n",
      "<!--?xml version=\"1.0\" encoding=\"UTF-8\"?-->\n",
      "<svg xmlns=\"http://www.w3.org/2000/svg\" xmlns:link=\"http://www.w3.org/1999/xlink\" version=\"1.1\" width=\"30mm\" height=\"30mm\" viewBox=\"0 0 30 30\" color-profile=\"auto\" color-interpolation=\"linearRGB\" color-interpolation-filters=\"linearRGB\"><g fill=\"none\" stroke-miterlimit=\"9.98123\" transform=\"matrix(30 0 0 -30 -0 30)\"><defs><path id=\"i1\" d=\"M0 0L1 0L1 1L0 1Z\"></path></defs><use link:href=\"#i1\" fill=\"#E6E6E6\"></use></g></svg>\n",
      "\n",
      ">>"
     ],
     "language": "python",
     "metadata": {},
     "outputs": [
      {
       "output_type": "stream",
       "stream": "stdout",
       "text": [
        "val x : Cow.Xml.t =\n",
        "  [`Data \"\\n\\n\";\n",
        "   `El\n",
        "     (((\"\", \"svg\"),\n",
        "       [((\"\", \"xmlns\"), \"http://www.w3.org/2000/svg\");\n",
        "        ((\"\", \"link\"), \"http://www.w3.org/1999/xlink\");\n",
        "        ((\"\", \"version\"), \"1.1\"); ((\"\", \"width\"), \"30mm\");\n",
        "        ((\"\", \"height\"), \"30mm\"); ((\"\", \"viewBox\"), \"0 0 30 30\");\n",
        "        ((\"\", \"color-profile\"), \"auto\");\n",
        "        ((\"\", \"color-interpolation\"), \"linearRGB\");\n",
        "        ((\"\", \"color-interpolation-filters\"), \"linearRGB\")]),\n",
        "      [`El\n",
        "         (((\"\", \"g\"),\n",
        "           [((\"\", \"fill\"), \"none\"); ((\"\", \"stroke-miterlimit\"), \"9.98123\");\n",
        "            ((\"\", \"transform\"), \"matrix(30 0 0 -30 -0 30)\")]),\n",
        "          [`El\n",
        "             (((\"\", \"defs\"), []),\n",
        "              [`El\n",
        "                 (((\"\", \"path\"),\n",
        "                   [((\"\", \"id\"), \"i1\"); ((\"\", \"d\"), \"M0 0L1 0L1 1L0 1Z\")]),\n",
        "                  [])]);\n",
        "           `El\n",
        "             (((\"\", \"use\"),\n",
        "               [((\"\", \"href\"), \"#i1\"); ((\"\", \"fill\"), \"#E6E6E6\")]),\n",
        "              [])])]);\n",
        "   `Data \"\\n\"]\n"
       ]
      }
     ],
     "prompt_number": 5
    },
    {
     "cell_type": "code",
     "collapsed": false,
     "input": [
      "Iocaml.display \"image/svg+xml\" (Cow.Html.to_string x)"
     ],
     "language": "python",
     "metadata": {},
     "outputs": [
      {
       "metadata": {},
       "output_type": "display_data",
       "svg": [
        "\n",
        "\n",
        "<svg xmlns=\"http://www.w3.org/2000/svg\" link=\"http://www.w3.org/1999/xlink\" version=\"1.1\" width=\"30mm\" height=\"30mm\" viewBox=\"0 0 30 30\" color-profile=\"auto\" color-interpolation=\"linearRGB\" color-interpolation-filters=\"linearRGB\"><g fill=\"none\" stroke-miterlimit=\"9.98123\" transform=\"matrix(30 0 0 -30 -0 30)\"><defs><path id=\"i1\" d=\"M0 0L1 0L1 1L0 1Z\"/></defs><use href=\"#i1\" fill=\"#E6E6E6\"/></g></svg>\n"
       ]
      },
      {
       "output_type": "stream",
       "stream": "stdout",
       "text": [
        "- : unit = ()\n"
       ]
      }
     ],
     "prompt_number": 9
    },
    {
     "cell_type": "code",
     "collapsed": false,
     "input": [
      "Cow.Html.to_string x"
     ],
     "language": "python",
     "metadata": {},
     "outputs": [
      {
       "output_type": "stream",
       "stream": "stdout",
       "text": [
        "- : string =\n",
        "\"\\n\\n<svg xmlns=\\\"http://www.w3.org/2000/svg\\\" link=\\\"http://www.w3.org/1999/xlink\\\" version=\\\"1.1\\\" width=\\\"30mm\\\" height=\\\"30mm\\\" viewBox=\\\"0 0 30 30\\\" color-profile=\\\"auto\\\" color-interpolation=\\\"linearRGB\\\" color-interpolation-filters=\\\"linearRGB\\\"><g fill=\\\"none\\\" stroke-miterlimit=\\\"9.98123\\\" transform=\\\"matrix(30 0 0 -30 -0 30)\\\"><defs><path id=\\\"i1\\\" d=\\\"M0 0L1 0L1 1L0 1Z\\\"/></defs><use href=\\\"#i1\\\" fill=\\\"#E6E6E6\\\"/></g></svg>\\n\"\n"
       ]
      }
     ],
     "prompt_number": 11
    },
    {
     "cell_type": "markdown",
     "metadata": {},
     "source": [
      "We seem to lose information is the ```xmlns:link``` tag, and later in ```link:href``` - only the token after the colon makes it into the string."
     ]
    },
    {
     "cell_type": "code",
     "collapsed": false,
     "input": [],
     "language": "python",
     "metadata": {},
     "outputs": []
    }
   ],
   "metadata": {}
  }
 ]
}