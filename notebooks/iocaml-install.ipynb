{
 "metadata": {
  "name": ""
 },
 "nbformat": 3,
 "nbformat_minor": 0,
 "worksheets": [
  {
   "cells": [
    {
     "cell_type": "heading",
     "level": 1,
     "metadata": {},
     "source": [
      "Installing IPython"
     ]
    },
    {
     "cell_type": "markdown",
     "metadata": {},
     "source": [
      "IOCaml is currently being develop against IPython 1.1.  To set this up on Ubuntu 13.10 64 bit do;\n",
      "\n",
      "```\n",
      "> sudo apt-get install ipython ipython-notebook python-scipy \\\n",
      "    python-matplotlib python-rpy2 \\\n",
      "    python-sympy cython python-networkx python-pexpect python-nose \\\n",
      "    python-mpi4py python-h5py python-tables \\\n",
      "    python-pandas python-sklearn python-scikits.statsmodels \\\n",
      "    python-pip python-setuptools python-sphinx python-pygments \\\n",
      "    octave\n",
      "```\n",
      "\n",
      "Then update the following packages;\n",
      "\n",
      "```\n",
      "> sudo pip install -U ipython \n",
      "> sudo pip install -U patsy \n",
      "> sudo pip install -U oct2py \n",
      "> sudo pip install -U scikits-image \n",
      "> sudo pip install -U pandas \n",
      "> sudo pip install -U statsmodels \n",
      "> sudo pip install -U networkx\n",
      "```\n",
      "\n",
      "At the time of writing this should get IPython 1.1 installed.\n",
      "\n",
      "```\n",
      "> ipython console\n",
      "Python 2.7.5+ (default, Sep 19 2013, 13:48:49) \n",
      "Type \"copyright\", \"credits\" or \"license\" for more information.\n",
      "\n",
      "IPython 1.1.0 -- An enhanced Interactive Python.\n",
      "?         -> Introduction and overview of IPython's features.\n",
      "%quickref -> Quick reference.\n",
      "help      -> Python's own help system.\n",
      "object?   -> Details about 'object', use 'object??' for extra details.\n",
      "```\n",
      "\n",
      "For development testing you can download IPython packages or the github repository then run\n",
      "\n",
      "```\n",
      "> python -m IPython [args]\n",
      "```\n",
      "\n",
      "from the directory the package in unpacked to."
     ]
    },
    {
     "cell_type": "heading",
     "level": 1,
     "metadata": {},
     "source": [
      "Installing IOCaml"
     ]
    },
    {
     "cell_type": "markdown",
     "metadata": {},
     "source": [
      "To compile with opam (tested with OCaml 4.00.1 and 4.01.0) install; yosjon, atd, atdgen, uuidm, cryptokit.\n",
      "\n",
      "We also need ocaml-zmq version 3.2;\n",
      "\n",
      "https://github.com/issuu/ocaml-zmq\n",
      "\n",
      "Get the IOCaml source code from.\n",
      "\n",
      "```\n",
      "> git clone https://github.com/andrewray/iocaml\n",
      "> make\n",
      "```\n",
      "\n",
      "which will give \\_build/iocaml.top\n"
     ]
    }
   ],
   "metadata": {}
  }
 ]
}