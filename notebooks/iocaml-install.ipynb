{
 "metadata": {
  "name": ""
 },
 "nbformat": 3,
 "nbformat_minor": 0,
 "worksheets": [
  {
   "cells": [
    {
     "cell_type": "heading",
     "level": 1,
     "metadata": {},
     "source": [
      "Installing IPython"
     ]
    },
    {
     "cell_type": "markdown",
     "metadata": {},
     "source": [
      "IOCaml is currently being developed against IPython 1.1.  To set this up on Ubuntu 13.10 64 bit with all bells and whistles do;\n",
      "\n",
      "```\n",
      "sudo apt-get install ipython ipython-notebook python-scipy \\\n",
      "    python-matplotlib python-rpy2 \\\n",
      "    python-sympy cython python-networkx python-pexpect python-nose \\\n",
      "    python-mpi4py python-h5py python-tables \\\n",
      "    python-pandas python-sklearn python-scikits.statsmodels \\\n",
      "    python-pip python-setuptools python-sphinx python-pygments \\\n",
      "    octave\n",
      "```\n",
      "\n",
      "Then update the following packages;\n",
      "\n",
      "```\n",
      "sudo pip install -U ipython \n",
      "sudo pip install -U patsy \n",
      "sudo pip install -U oct2py \n",
      "sudo pip install -U scikits-image \n",
      "sudo pip install -U pandas \n",
      "sudo pip install -U statsmodels \n",
      "sudo pip install -U networkx\n",
      "```\n",
      "\n",
      "At the time of writing this should get IPython 1.1 installed.\n",
      "\n",
      "```\n",
      "ipython console\n",
      "Python 2.7.5+ (default, Sep 19 2013, 13:48:49) \n",
      "Type \"copyright\", \"credits\" or \"license\" for more information.\n",
      "\n",
      "IPython 1.1.0 -- An enhanced Interactive Python.\n",
      "?         -> Introduction and overview of IPython's features.\n",
      "%quickref -> Quick reference.\n",
      "help      -> Python's own help system.\n",
      "object?   -> Details about 'object', use 'object??' for extra details.\n",
      "```\n",
      "\n",
      "I suspect you could get away with just apt-get installing python and ipython then pip updating ipython if you want to avoid downloading a few hundred MB.\n",
      "\n",
      "For development testing you can download IPython packages or the github repository then run\n",
      "\n",
      "```\n",
      "> python -m IPython [args]\n",
      "```\n",
      "\n",
      "from the directory the package in unpacked to."
     ]
    },
    {
     "cell_type": "heading",
     "level": 1,
     "metadata": {},
     "source": [
      "Installing IOCaml"
     ]
    },
    {
     "cell_type": "markdown",
     "metadata": {},
     "source": [
      "The following starts from a clean install of the ocaml compiler (an alias of 4.01.0) and builds everything from scratch.\n",
      "\n",
      "```\n",
      "opam switch install 4.01.0-iocaml --alias-of 4.01.0\n",
      "eval `opam config env`\n",
      "```\n",
      "\n",
      "Install some needed packages.\n",
      "\n",
      "```\n",
      "opam install atdgen cryptokit uuidm ounit uint oasis\n",
      "```\n",
      "\n",
      "We should now have the following installed.\n",
      "\n",
      "```\n",
      "opam list -i\n",
      "Installed packages for 4.01.0-iocaml:\n",
      "atd                      1.0.3  Parser for the ATD data format description language\n",
      "atdgen                   1.2.4  Generates efficient JSON serializers, deserializers and validators\n",
      "base-bigarray             base  Bigarray library distributed with the OCaml compiler\n",
      "base-threads              base  Threads library distributed with the OCaml compiler\n",
      "base-unix                 base  Unix library distributed with the OCaml compiler\n",
      "biniou                   1.0.6  Binary data format designed for speed, safety, ease of use and backward compatibility as protocols evolve\n",
      "cppo                     0.9.3  Equivalent of the C preprocessor for OCaml programs\n",
      "cryptokit                  1.7  Cryptographic primitives library. \n",
      "easy-format              1.0.1  High-level and functional interface to the Format module of the OCaml standard library\n",
      "fileutils                0.4.4  Library to provide pure OCaml functions to manipulate real file (POSIX like) and filename.\n",
      "menhir                20130912  LR(1) parser generator\n",
      "oasis                    0.3.0  Architecture for building OCaml libraries and applications\n",
      "ocaml-data-notation     0.0.10  Store data using OCaml notation\n",
      "ocamlfind                1.4.0  A library manager for OCaml\n",
      "ocamlify                 0.0.1  Include files in OCaml code\n",
      "ocamlmod                 0.0.4  Generate OCaml modules from source files\n",
      "ospec                    0.3.2  Behavior-Driven Development tool for OCaml, inspired by RSpec\n",
      "ounit                    2.0.0  Unit testing framework loosely based on HUnit. It is similar to JUnit, and other XUnit testing frameworks\n",
      "type_conv            109.41.00  Library for building type-driven syntax extensions\n",
      "uint                     1.1.0  Unsigned ints for OCaml\n",
      "uuidm                    0.9.5  Module for universally unique identifiers (UUIDs)\n",
      "yojson                   1.1.6  Yojson is an optimized parsing and printing library for the JSON format \n",
      "\n",
      "```\n",
      "\n",
      "Clone the repositories we need to compile\n",
      "\n",
      "```\n",
      "git clone https://github.com/issuu/ocaml-zmq.git\n",
      "git clone https://github.com/andrewray/iocaml.git\n",
      "```\n",
      "\n",
      "Compile ocaml-zmq\n",
      "\n",
      "```\n",
      "cd ocaml-zmq\n",
      "oasis setup\n",
      "make all\n",
      "make install\n",
      "```\n",
      "\n",
      "compile IOCaml\n",
      "\n",
      "```\n",
      "cd iocaml\n",
      "make\n",
      "```"
     ]
    },
    {
     "cell_type": "heading",
     "level": 1,
     "metadata": {},
     "source": [
      "Setting up IOCaml"
     ]
    },
    {
     "cell_type": "markdown",
     "metadata": {},
     "source": [
      "Run IPython to setup a new iocaml profile\n",
      "\n",
      "```\n",
      "> ipython profile create iocaml\n",
      "```\n",
      "\n",
      "Copy 'profile/ipython_config.py' into the the ipython profile directory '~/.ipython/profile_iocaml' then edit the kernel_cmd line so it can find iocaml.top.\n"
     ]
    },
    {
     "cell_type": "markdown",
     "metadata": {},
     "source": [
      "Now you can run the iocaml with\n",
      "\n",
      "```\n",
      "> ipython notebook --profile=iocaml\n",
      "```"
     ]
    }
   ],
   "metadata": {}
  }
 ]
}