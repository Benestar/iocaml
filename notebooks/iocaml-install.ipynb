{
 "metadata": {
  "language": "ocaml",
  "name": ""
 },
 "nbformat": 3,
 "nbformat_minor": 0,
 "worksheets": [
  {
   "cells": [
    {
     "cell_type": "heading",
     "level": 1,
     "metadata": {},
     "source": [
      "Installing IPython"
     ]
    },
    {
     "cell_type": "markdown",
     "metadata": {},
     "source": [
      "IOCaml is currently being developed against IPython 1.1.  To set this up on Ubuntu 13.10 64 bit do;\n",
      "\n",
      "```bash\n",
      "$ sudo apt-get install libzmq3-dev python-dev ipython ipython-notebook \\\n",
      "    python-pip python-setuptools python-jinja2 m4 zlib1g-dev\n",
      "```\n",
      "\n",
      "Then update the following python packages;\n",
      "\n",
      "```bash\n",
      "$ sudo pip install -U ipython pyzmq\n",
      "```\n",
      "\n",
      "At the time of writing this should get IPython 1.1 installed.\n",
      "\n",
      "```bash\n",
      "$ ipython console\n",
      "Python 2.7.5+ (default, Sep 19 2013, 13:48:49) \n",
      "Type \"copyright\", \"credits\" or \"license\" for more information.\n",
      "\n",
      "IPython 1.1.0 -- An enhanced Interactive Python.\n",
      "?         -> Introduction and overview of IPython's features.\n",
      "%quickref -> Quick reference.\n",
      "help      -> Python's own help system.\n",
      "object?   -> Details about 'object', use 'object??' for extra details.\n",
      "```\n",
      "\n",
      "For development testing you can download IPython packages or the github repository then run\n",
      "\n",
      "```bash\n",
      "$ python -m IPython [args]\n",
      "```\n",
      "\n",
      "from the directory the package in unpacked to."
     ]
    },
    {
     "cell_type": "heading",
     "level": 1,
     "metadata": {},
     "source": [
      "Installing IOCaml"
     ]
    },
    {
     "cell_type": "markdown",
     "metadata": {},
     "source": [
      "The following starts from a clean install of the ocaml compiler (an alias of 4.01.0) and builds everything from scratch.\n",
      "\n",
      "```bash\n",
      "$ opam switch install 4.01.0-iocaml --alias-of 4.01.0\n",
      "$ eval `opam config env`\n",
      "```\n",
      "\n",
      "Install some needed packages.\n",
      "\n",
      "```bash\n",
      "$ opam install atdgen cryptokit uuidm ounit uint oasis ocamlnet\n",
      "```\n",
      "\n",
      "Clone the repositories we need to compile\n",
      "\n",
      "```bash\n",
      "$ git clone https://github.com/issuu/ocaml-zmq.git\n",
      "$ git clone https://github.com/andrewray/iocaml.git\n",
      "```\n",
      "\n",
      "Compile ocaml-zmq\n",
      "\n",
      "```bash\n",
      "$ cd ocaml-zmq\n",
      "$ oasis setup\n",
      "$ make all\n",
      "$ make install\n",
      "```\n",
      "\n",
      "compile IOCaml\n",
      "\n",
      "```bash\n",
      "$ cd iocaml\n",
      "$ make all\n",
      "$ make install\n",
      "```"
     ]
    },
    {
     "cell_type": "heading",
     "level": 1,
     "metadata": {},
     "source": [
      "Setting up IOCaml"
     ]
    },
    {
     "cell_type": "markdown",
     "metadata": {},
     "source": [
      "Run IPython to setup a new iocaml profile\n",
      "\n",
      "```bash\n",
      "$ ipython profile create iocaml\n",
      "```\n",
      "\n",
      "Copy the contents of `'profile/'` into the the ipython profile directory `'~/.config/ipython/profile_iocaml'` (or `'~/.ipython/profile_iocaml'` if you've run 2.0-dev).\n",
      "\n",
      "```bash\n",
      "$ cp -r profile/* ~/.config/ipython/profile_iocaml/\n",
      "```\n",
      "\n",
      "Now you can run iocaml with\n",
      "\n",
      "```bash\n",
      "$ ipython notebook --profile=iocaml\n",
      "```"
     ]
    },
    {
     "cell_type": "heading",
     "level": 1,
     "metadata": {},
     "source": [
      "Command line options"
     ]
    },
    {
     "cell_type": "markdown",
     "metadata": {},
     "source": [
      "There are a few command line options to iocaml which are set up in the `ipython_config.py` configuration file.\n",
      "\n",
      "```bash\n",
      "$ iocaml.top --help\n",
      "iocaml kernel\n",
      "  -log <filename>             open log file\n",
      "  -connection-file <filename> connection file name\n",
      "  -suppress {stdout|stderr|compiler|all}\n",
      "                              suppress channel at start up\n",
      "  -package <package>          load package at startup\n",
      "  -help                       Display this list of options\n",
      "  --help                      Display this list of options\n",
      "\n",
      "```"
     ]
    },
    {
     "cell_type": "markdown",
     "metadata": {},
     "source": [
      "The defualt configuration loads the iocaml package at startup."
     ]
    }
   ],
   "metadata": {}
  }
 ]
}