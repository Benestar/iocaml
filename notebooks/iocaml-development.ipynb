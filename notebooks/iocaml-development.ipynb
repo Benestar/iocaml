{
 "metadata": {
  "name": ""
 },
 "nbformat": 3,
 "nbformat_minor": 0,
 "worksheets": [
  {
   "cells": [
    {
     "cell_type": "heading",
     "level": 1,
     "metadata": {},
     "source": [
      "List of development issues"
     ]
    },
    {
     "cell_type": "heading",
     "level": 5,
     "metadata": {},
     "source": [
      "UTF-8"
     ]
    },
    {
     "cell_type": "markdown",
     "metadata": {},
     "source": [
      "The data in ZMQ JSON messages is/should be UTF-8 encoded.  Not really sure what this entails as I've never really fiddled with Unicode before, but there is always Camomile."
     ]
    },
    {
     "cell_type": "heading",
     "level": 5,
     "metadata": {},
     "source": [
      "Heartbeat message"
     ]
    },
    {
     "cell_type": "markdown",
     "metadata": {},
     "source": [
      "We don't always seem to receive the heartbeat signal.  We do with the console app, but not the notebook app.  Dont really understand why - is IPython somehow doing some of the work for us?  Different front ends seems to send all sorts of different messages."
     ]
    },
    {
     "cell_type": "heading",
     "level": 5,
     "metadata": {},
     "source": [
      "Missing messages"
     ]
    },
    {
     "cell_type": "markdown",
     "metadata": {},
     "source": [
      "These cause the kernel to die.  We need to respond in some way to everything."
     ]
    },
    {
     "cell_type": "markdown",
     "metadata": {},
     "source": [
      "*Unused messages are handled by ignoring them.  There may be some JSON parsing problems to be unconvered* "
     ]
    },
    {
     "cell_type": "heading",
     "level": 5,
     "metadata": {},
     "source": [
      "iocaml.top Compilation warnings "
     ]
    },
    {
     "cell_type": "markdown",
     "metadata": {},
     "source": [
      "There are many warnings of the form\n",
      "\n",
      "```\n",
      "+ ocamlfind ocamlc -c -thread -package threads,ZMQ,uuidm,yojson,atdgen,cryptokit,compiler-libs.toplevel -o iocaml.cmo iocaml.ml\n",
      "findlib: [WARNING] Interface topdirs.cmi occurs in several directories: /home/andyman/.opam/4.01.0/lib/ocaml/compiler-libs, /home/andyman/.opam/4.01.0/lib/ocaml\n",
      "+ ocamlfind ocamlmktop -thread -linkpkg -package threads,ZMQ,uuidm,yojson,atdgen,cryptokit,compiler-libs.toplevel -package threads,ZMQ,uuidm,yojson,atdgen,cryptokit,compiler-libs.toplevel Ipython_json_t.cmo Ipython_json_j.cmo iocaml.cmo -o iocaml.top\n",
      "findlib: [WARNING] Interface topdirs.cmi occurs in several directories: /home/andyman/.opam/4.01.0/lib/ocaml/compiler-libs, /home/andyman/.opam/4.01.0/lib/ocaml\n",
      "File \"/home/andyman/.opam/4.01.0/lib/ocaml/compiler-libs/ocamlcommon.cma(Misc)\", line 1:\n",
      "Warning 31: files /home/andyman/.opam/4.01.0/lib/ocaml/compiler-libs/ocamlcommon.cma(Misc) and /home/andyman/.opam/4.01.0/lib/ocaml/compiler-libs/ocamlcommon.cma(Misc) both define a module named Misc\n",
      "File \"/home/andyman/.opam/4.01.0/lib/ocaml/compiler-libs/ocamlcommon.cma(Tbl)\", line 1:\n",
      "Warning 31: files /home/andyman/.opam/4.01.0/lib/ocaml/compiler-libs/ocamlcommon.cma(Tbl) and /home/andyman/.opam/4.01.0/lib/ocaml/compiler-libs/ocamlcommon.cma(Tbl) both define a module named Tbl\n",
      "File \"/home/andyman/.opam/4.01.0/lib/ocaml/compiler-libs/ocamlcommon.cma(Config)\", line 1:\n",
      "```\n",
      "\n",
      "When compiling iocaml.  They might be a compiler-libs packaging issue with opam (ocaml 4.01.0) or possible the way I am building things.  However, I got the same issues when compiling up uTop."
     ]
    },
    {
     "cell_type": "markdown",
     "metadata": {},
     "source": [
      "*Reduced, but not eliminated, these warnings.*"
     ]
    },
    {
     "cell_type": "heading",
     "level": 5,
     "metadata": {},
     "source": [
      "JSON dicts"
     ]
    },
    {
     "cell_type": "markdown",
     "metadata": {},
     "source": [
      "Various messages take JSON dicts.  Not clear what they are and how they should be encoded with atdgen.  They are currently dyn JSON nodes."
     ]
    },
    {
     "cell_type": "heading",
     "level": 5,
     "metadata": {},
     "source": [
      "stdout and stderr"
     ]
    },
    {
     "cell_type": "markdown",
     "metadata": {},
     "source": [
      "stdout and stderr are read all at once after code execution.  If there is lots of data output then the OCaml code may pause while writing to these channels during execution.  This locks up the kernel."
     ]
    },
    {
     "cell_type": "markdown",
     "metadata": {},
     "source": [
      "*This has been rearchitected with a thread dealing with all I/O.  Seems to be working properly now*"
     ]
    },
    {
     "cell_type": "heading",
     "level": 5,
     "metadata": {},
     "source": [
      "Interrupts"
     ]
    },
    {
     "cell_type": "markdown",
     "metadata": {},
     "source": [
      "We need to make sure the interrupt can get through to the kernel and suspend execution, otherwise we'll end up with a locked kernel."
     ]
    },
    {
     "cell_type": "markdown",
     "metadata": {},
     "source": [
      "*Interrupts now seem to be working*"
     ]
    },
    {
     "cell_type": "heading",
     "level": 5,
     "metadata": {},
     "source": [
      "stdin"
     ]
    },
    {
     "cell_type": "markdown",
     "metadata": {},
     "source": [
      "stdin handling looks...undoable? or just hard?  Dunno."
     ]
    },
    {
     "cell_type": "heading",
     "level": 5,
     "metadata": {},
     "source": [
      "Kernel run-time API"
     ]
    },
    {
     "cell_type": "markdown",
     "metadata": {},
     "source": [
      "Much nicer services could be provided to the user if the iocaml code could expose some variables/functions/objects that user code could manipulate.  This would allow much finer control of media presentation than we currently have which is based on a #mime directive hack and sending data out through stdout."
     ]
    },
    {
     "cell_type": "markdown",
     "metadata": {},
     "source": [
      "*This is done and the directives have been removed.  Need to properly install the API but it is working*"
     ]
    },
    {
     "cell_type": "heading",
     "level": 1,
     "metadata": {},
     "source": [
      "Feature requests"
     ]
    },
    {
     "cell_type": "heading",
     "level": 5,
     "metadata": {},
     "source": [
      "Error highlighting"
     ]
    },
    {
     "cell_type": "markdown",
     "metadata": {},
     "source": [
      "Errors from the ocaml compiler should be highlighted in the code cell"
     ]
    },
    {
     "cell_type": "heading",
     "level": 5,
     "metadata": {},
     "source": [
      "Code completion"
     ]
    },
    {
     "cell_type": "markdown",
     "metadata": {},
     "source": [
      "Nick the completion code from utop, if possible."
     ]
    },
    {
     "cell_type": "heading",
     "level": 5,
     "metadata": {},
     "source": [
      "Intellisense"
     ]
    },
    {
     "cell_type": "markdown",
     "metadata": {},
     "source": [
      "A webservice where we could look up documentation (say OPAM) would be magic."
     ]
    },
    {
     "cell_type": "heading",
     "level": 5,
     "metadata": {},
     "source": [
      "History"
     ]
    },
    {
     "cell_type": "markdown",
     "metadata": {},
     "source": [
      "The kernel is supposed to record history."
     ]
    },
    {
     "cell_type": "heading",
     "level": 5,
     "metadata": {},
     "source": [
      "Lwt"
     ]
    },
    {
     "cell_type": "markdown",
     "metadata": {},
     "source": [
      "The code is about to get multithreaded.  Should we actually use Lwt?  Can the compiler run under Lwt?"
     ]
    },
    {
     "cell_type": "heading",
     "level": 5,
     "metadata": {},
     "source": [
      "utop"
     ]
    },
    {
     "cell_type": "markdown",
     "metadata": {},
     "source": [
      "Utop has many of the features we want.  Can we base this off it?"
     ]
    }
   ],
   "metadata": {}
  }
 ]
}