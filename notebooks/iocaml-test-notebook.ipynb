{
 "metadata": {
  "name": ""
 },
 "nbformat": 3,
 "nbformat_minor": 0,
 "worksheets": [
  {
   "cells": [
    {
     "cell_type": "heading",
     "level": 1,
     "metadata": {},
     "source": [
      "Basic interaction"
     ]
    },
    {
     "cell_type": "markdown",
     "metadata": {},
     "source": [
      "IOCaml is a basic OCaml kernel for IPython.\n",
      "\n",
      "Code can be written in notebook cells and is executed by the OCaml toploop when ctrl-return or shift-return is pressed"
     ]
    },
    {
     "cell_type": "code",
     "collapsed": false,
     "input": [
      "let a = 23"
     ],
     "language": "python",
     "metadata": {},
     "outputs": [
      {
       "output_type": "stream",
       "stream": "stdout",
       "text": [
        "val a : int = 23\n"
       ]
      }
     ],
     "prompt_number": 1
    },
    {
     "cell_type": "markdown",
     "metadata": {},
     "source": [
      "Note that you do not need \";;\" at the end of the statement.  The code in each cell is read as if it were a file being loaded into the top loop.  Multiple expressions can be entered in each cell."
     ]
    },
    {
     "cell_type": "code",
     "collapsed": false,
     "input": [
      "let b = \"hello\"\n",
      "let c = \"world\"\n",
      "let d = b ^ \" \" ^ c"
     ],
     "language": "python",
     "metadata": {},
     "outputs": [
      {
       "output_type": "stream",
       "stream": "stdout",
       "text": [
        "val b : string = \"hello\"\n",
        "val c : string = \"world\"\n",
        "val d : string = \"hello world\"\n"
       ]
      }
     ],
     "prompt_number": 2
    },
    {
     "cell_type": "markdown",
     "metadata": {},
     "source": [
      "You can load system libraries as normal."
     ]
    },
    {
     "cell_type": "code",
     "collapsed": false,
     "input": [
      "#use \"topfind\""
     ],
     "language": "python",
     "metadata": {},
     "outputs": [
      {
       "output_type": "stream",
       "stream": "stdout",
       "text": [
        "- : unit = ()\n"
       ]
      },
      {
       "output_type": "stream",
       "stream": "stdout",
       "text": [
        "Findlib has been successfully loaded. Additional directives:\n",
        "  #require \"package\";;      to load a package\n",
        "  #list;;                   to list the available packages\n",
        "  #camlp4o;;                to load camlp4 (standard syntax)\n",
        "  #camlp4r;;                to load camlp4 (revised syntax)\n",
        "  #predicates \"p,q,...\";;   to set these predicates\n",
        "  Topfind.reset();;         to force that packages will be reloaded\n",
        "  #thread;;                 to enable threads\n",
        "\n",
        "- : unit = ()\n"
       ]
      },
      {
       "output_type": "stream",
       "stream": "stdout",
       "text": []
      }
     ],
     "prompt_number": 3
    },
    {
     "cell_type": "code",
     "collapsed": false,
     "input": [
      "#require \"bigarray\""
     ],
     "language": "python",
     "metadata": {},
     "outputs": [
      {
       "output_type": "stream",
       "stream": "stderr",
       "text": [
        "/home/andyman/.opam/4.01.0/lib/ocaml/unix.cma: loaded\n"
       ]
      },
      {
       "output_type": "stream",
       "stream": "stderr",
       "text": [
        "/home/andyman/.opam/4.01.0/lib/ocaml/bigarray.cma: loaded\n"
       ]
      },
      {
       "output_type": "stream",
       "stream": "stdout",
       "text": []
      }
     ],
     "prompt_number": 4
    },
    {
     "cell_type": "code",
     "collapsed": false,
     "input": [
      "Bigarray.Array1.dim"
     ],
     "language": "python",
     "metadata": {},
     "outputs": [
      {
       "output_type": "stream",
       "stream": "stdout",
       "text": [
        "- : ('a, 'b, 'c) Bigarray.Array1.t -> int = <fun>\n"
       ]
      }
     ],
     "prompt_number": 5
    },
    {
     "cell_type": "markdown",
     "metadata": {},
     "source": [
      "Errors are labelled with **file [cell number]**"
     ]
    },
    {
     "cell_type": "code",
     "collapsed": false,
     "input": [
      "let a = 1\n",
      "let b = 2\n",
      "let c = a + b + 1.0"
     ],
     "language": "python",
     "metadata": {},
     "outputs": [
      {
       "output_type": "stream",
       "stream": "stderr",
       "text": [
        "val a : int = 1\n",
        "val b : int = 2\n",
        "File \"[6]\", line 3, characters 16-19:\n",
        "Error: This expression has type float but an expression was expected of type\n",
        "         int\n"
       ]
      }
     ],
     "prompt_number": 6
    },
    {
     "cell_type": "heading",
     "level": 1,
     "metadata": {},
     "source": [
      "Basic output"
     ]
    },
    {
     "cell_type": "markdown",
     "metadata": {},
     "source": [
      "There are three basic output types; messages from the compiler, stdout and stderr.  All three are sent to the notebook."
     ]
    },
    {
     "cell_type": "code",
     "collapsed": false,
     "input": [
      "Printf.printf \"hello\";\n",
      "Printf.fprintf stderr \"world\""
     ],
     "language": "python",
     "metadata": {},
     "outputs": [
      {
       "output_type": "stream",
       "stream": "stdout",
       "text": [
        "hello"
       ]
      },
      {
       "output_type": "stream",
       "stream": "stderr",
       "text": [
        "world"
       ]
      },
      {
       "output_type": "stream",
       "stream": "stdout",
       "text": [
        "- : unit = ()\n"
       ]
      }
     ],
     "prompt_number": 9
    },
    {
     "cell_type": "markdown",
     "metadata": {},
     "source": [
      "Data is sent to the *current* cell as it is generated."
     ]
    },
    {
     "cell_type": "code",
     "collapsed": false,
     "input": [
      "#thread;;"
     ],
     "language": "python",
     "metadata": {},
     "outputs": [
      {
       "output_type": "stream",
       "stream": "stderr",
       "text": [
        "/home/andyman/.opam/4.01.0/lib/ocaml/threads: added to search path\n",
        "/home/andyman/.opam/4.01.0/lib/ocaml/threads/threads.cma: loaded\n"
       ]
      },
      {
       "output_type": "stream",
       "stream": "stdout",
       "text": []
      }
     ],
     "prompt_number": 10
    },
    {
     "cell_type": "code",
     "collapsed": false,
     "input": [
      "Thread.create (fun () -> for i=0 to 5 do Printf.printf \"hello world %i\\n%!\" i; Unix.sleep 1 done) ()"
     ],
     "language": "python",
     "metadata": {},
     "outputs": [
      {
       "output_type": "stream",
       "stream": "stdout",
       "text": [
        "hello world 0\n"
       ]
      },
      {
       "output_type": "stream",
       "stream": "stdout",
       "text": [
        "- : Thread.t = <abstr>\n"
       ]
      },
      {
       "output_type": "stream",
       "stream": "stdout",
       "text": [
        "hello world 1\n"
       ]
      },
      {
       "output_type": "stream",
       "stream": "stdout",
       "text": [
        "hello world 2\n"
       ]
      },
      {
       "output_type": "stream",
       "stream": "stdout",
       "text": [
        "hello world 3\n"
       ]
      },
      {
       "output_type": "stream",
       "stream": "stdout",
       "text": [
        "hello world 4\n"
       ]
      },
      {
       "output_type": "stream",
       "stream": "stdout",
       "text": [
        "hello world 5\n"
       ]
      }
     ],
     "prompt_number": 18
    },
    {
     "cell_type": "markdown",
     "metadata": {},
     "source": [
      "The current cell is the one just executed, so the above could get confusing..."
     ]
    },
    {
     "cell_type": "code",
     "collapsed": false,
     "input": [
      "Thread.create (fun () -> for i=0 to 5 do Printf.printf \"hello world %i\\n%!\" i; Unix.sleep 1 done) ()"
     ],
     "language": "python",
     "metadata": {},
     "outputs": [
      {
       "output_type": "stream",
       "stream": "stdout",
       "text": [
        "hello world 0\n"
       ]
      },
      {
       "output_type": "stream",
       "stream": "stdout",
       "text": [
        "- : Thread.t = <abstr>\n"
       ]
      },
      {
       "output_type": "stream",
       "stream": "stdout",
       "text": [
        "hello world 1\n"
       ]
      }
     ],
     "prompt_number": 20
    },
    {
     "cell_type": "code",
     "collapsed": false,
     "input": [
      "Printf.printf \"hello world in the middle\\n%!\""
     ],
     "language": "python",
     "metadata": {},
     "outputs": [
      {
       "output_type": "stream",
       "stream": "stdout",
       "text": [
        "hello world in the middle\n"
       ]
      },
      {
       "output_type": "stream",
       "stream": "stdout",
       "text": [
        "- : unit = ()\n"
       ]
      },
      {
       "output_type": "stream",
       "stream": "stdout",
       "text": [
        "hello world 2\n"
       ]
      },
      {
       "output_type": "stream",
       "stream": "stdout",
       "text": [
        "hello world 3\n"
       ]
      },
      {
       "output_type": "stream",
       "stream": "stdout",
       "text": [
        "hello world 4\n"
       ]
      },
      {
       "output_type": "stream",
       "stream": "stdout",
       "text": [
        "hello world 5\n"
       ]
      }
     ],
     "prompt_number": 21
    },
    {
     "cell_type": "heading",
     "level": 1,
     "metadata": {},
     "source": [
      "Iocaml API"
     ]
    },
    {
     "cell_type": "markdown",
     "metadata": {},
     "source": [
      "Some functions are available for controlling interaction with the toploop and notebook in the ```Iocaml``` module"
     ]
    },
    {
     "cell_type": "code",
     "collapsed": false,
     "input": [
      "#directory \"/home/andyman/dev/github/iocaml/_build\";;"
     ],
     "language": "python",
     "metadata": {},
     "outputs": [
      {
       "output_type": "stream",
       "stream": "stdout",
       "text": []
      }
     ],
     "prompt_number": 22
    },
    {
     "cell_type": "markdown",
     "metadata": {},
     "source": [
      "There are a few functions for disabling output."
     ]
    },
    {
     "cell_type": "code",
     "collapsed": false,
     "input": [
      "Iocaml.suppress_stdout;;\n",
      "Iocaml.suppress_stderr;;\n",
      "Iocaml.suppress_compiler;;\n",
      "Iocaml.suppress_all;;"
     ],
     "language": "python",
     "metadata": {},
     "outputs": [
      {
       "output_type": "stream",
       "stream": "stdout",
       "text": [
        "- : bool -> unit = <fun>\n",
        "- : bool -> unit = <fun>\n",
        "- : bool -> unit = <fun>\n",
        "- : bool -> unit = <fun>\n"
       ]
      }
     ],
     "prompt_number": 26
    },
    {
     "cell_type": "code",
     "collapsed": false,
     "input": [
      "Iocaml.suppress_stdout true;\n",
      "Printf.printf \"where am I?\\n%!\";\n",
      "Iocaml.suppress_stdout false;\n",
      "Printf.printf \"I'm back!\\n%!\";"
     ],
     "language": "python",
     "metadata": {},
     "outputs": [
      {
       "output_type": "stream",
       "stream": "stdout",
       "text": [
        "I'm back!\n"
       ]
      },
      {
       "output_type": "stream",
       "stream": "stdout",
       "text": [
        "- : unit = ()\n"
       ]
      }
     ],
     "prompt_number": 27
    },
    {
     "cell_type": "markdown",
     "metadata": {},
     "source": [
      "*note; the relevant .cmi files should be installed as a package*"
     ]
    },
    {
     "cell_type": "heading",
     "level": 1,
     "metadata": {},
     "source": [
      "Rich media output"
     ]
    },
    {
     "cell_type": "markdown",
     "metadata": {},
     "source": [
      "Data can be sent to the front end and displayed as media.  The Iocaml API provides 2 ways to do this."
     ]
    },
    {
     "cell_type": "code",
     "collapsed": false,
     "input": [
      "Iocaml.display"
     ],
     "language": "python",
     "metadata": {},
     "outputs": [
      {
       "output_type": "stream",
       "stream": "stdout",
       "text": [
        "- : ?base64:bool -> string -> string -> unit = <fun>\n"
       ]
      }
     ],
     "prompt_number": 28
    },
    {
     "cell_type": "markdown",
     "metadata": {},
     "source": [
      "```Iocaml.display ~base64 mime_type \"data to display\"``` displays the data with the given mime type.  The optional base64 parameter will encode the data if that is required."
     ]
    },
    {
     "cell_type": "code",
     "collapsed": false,
     "input": [
      "Iocaml.mime;;\n",
      "Iocaml.send_mime;;"
     ],
     "language": "python",
     "metadata": {},
     "outputs": [
      {
       "output_type": "stream",
       "stream": "stdout",
       "text": [
        "- : out_channel = <abstr>\n",
        "- : ?base64:bool -> string -> unit = <fun>\n"
       ]
      }
     ],
     "prompt_number": 31
    },
    {
     "cell_type": "markdown",
     "metadata": {},
     "source": [
      "Alternatively data can be written to ```Iocaml.mime : out_channel```.  When all the data is ready call ```Iocaml.send_mime ~base64 mime_type```  to display it."
     ]
    },
    {
     "cell_type": "heading",
     "level": 4,
     "metadata": {},
     "source": [
      "HTML output"
     ]
    },
    {
     "cell_type": "code",
     "collapsed": false,
     "input": [
      "Iocaml.display \"text/html\" \"<b>hello </b><i>world</i>\""
     ],
     "language": "python",
     "metadata": {},
     "outputs": [
      {
       "html": [
        "<b>hello </b><i>world</i>"
       ],
       "metadata": {},
       "output_type": "display_data"
      }
     ],
     "prompt_number": 47
    },
    {
     "cell_type": "markdown",
     "metadata": {},
     "source": [
      "This is a more complex example which renders a ```string array array``` as a table"
     ]
    },
    {
     "cell_type": "code",
     "collapsed": false,
     "input": [
      "open Printf\n",
      "let to_table a = \n",
      "    let open Iocaml in\n",
      "    let open Printf in\n",
      "    fprintf mime \"<table>\\n\";\n",
      "    Array.iter (fun data -> \n",
      "        fprintf mime \"<tr>\\n\";\n",
      "        Array.iter (fun data -> \n",
      "            fprintf mime \"<td>%s</td>\" data\n",
      "        ) data;\n",
      "        fprintf mime \"</tr>\\n\";\n",
      "    ) a;\n",
      "    fprintf mime \"</table>\""
     ],
     "language": "python",
     "metadata": {},
     "outputs": [
      {
       "output_type": "stream",
       "stream": "stdout",
       "text": [
        "val to_table : string array array -> unit = <fun>\n"
       ]
      }
     ],
     "prompt_number": 35
    },
    {
     "cell_type": "code",
     "collapsed": false,
     "input": [
      "to_table (Array.init 8 (fun row -> Array.init 6 (fun col -> sprintf \"row=%i col=%i\\n\" row col)));;\n",
      "Iocaml.send_mime \"text/html\""
     ],
     "language": "python",
     "metadata": {},
     "outputs": [
      {
       "html": [
        "<table>\n",
        "<tr>\n",
        "<td>row=0 col=0\n",
        "</td><td>row=0 col=1\n",
        "</td><td>row=0 col=2\n",
        "</td><td>row=0 col=3\n",
        "</td><td>row=0 col=4\n",
        "</td><td>row=0 col=5\n",
        "</td></tr>\n",
        "<tr>\n",
        "<td>row=1 col=0\n",
        "</td><td>row=1 col=1\n",
        "</td><td>row=1 col=2\n",
        "</td><td>row=1 col=3\n",
        "</td><td>row=1 col=4\n",
        "</td><td>row=1 col=5\n",
        "</td></tr>\n",
        "<tr>\n",
        "<td>row=2 col=0\n",
        "</td><td>row=2 col=1\n",
        "</td><td>row=2 col=2\n",
        "</td><td>row=2 col=3\n",
        "</td><td>row=2 col=4\n",
        "</td><td>row=2 col=5\n",
        "</td></tr>\n",
        "<tr>\n",
        "<td>row=3 col=0\n",
        "</td><td>row=3 col=1\n",
        "</td><td>row=3 col=2\n",
        "</td><td>row=3 col=3\n",
        "</td><td>row=3 col=4\n",
        "</td><td>row=3 col=5\n",
        "</td></tr>\n",
        "<tr>\n",
        "<td>row=4 col=0\n",
        "</td><td>row=4 col=1\n",
        "</td><td>row=4 col=2\n",
        "</td><td>row=4 col=3\n",
        "</td><td>row=4 col=4\n",
        "</td><td>row=4 col=5\n",
        "</td></tr>\n",
        "<tr>\n",
        "<td>row=5 col=0\n",
        "</td><td>row=5 col=1\n",
        "</td><td>row=5 col=2\n",
        "</td><td>row=5 col=3\n",
        "</td><td>row=5 col=4\n",
        "</td><td>row=5 col=5\n",
        "</td></tr>\n",
        "<tr>\n",
        "<td>row=6 col=0\n",
        "</td><td>row=6 col=1\n",
        "</td><td>row=6 col=2\n",
        "</td><td>row=6 col=3\n",
        "</td><td>row=6 col=4\n",
        "</td><td>row=6 col=5\n",
        "</td></tr>\n",
        "<tr>\n",
        "<td>row=7 col=0\n",
        "</td><td>row=7 col=1\n",
        "</td><td>row=7 col=2\n",
        "</td><td>row=7 col=3\n",
        "</td><td>row=7 col=4\n",
        "</td><td>row=7 col=5\n",
        "</td></tr>\n",
        "</table>"
       ],
       "metadata": {},
       "output_type": "display_data"
      },
      {
       "output_type": "stream",
       "stream": "stdout",
       "text": [
        "- : unit = ()\n",
        "- : unit = ()\n"
       ]
      }
     ],
     "prompt_number": 38
    },
    {
     "cell_type": "markdown",
     "metadata": {},
     "source": [
      "You can embed images from a url with html."
     ]
    },
    {
     "cell_type": "code",
     "collapsed": false,
     "input": [
      "Iocaml.display \"text/html\" \"<img src=\\\"http://tineye.com/images/imageurl-firefox.png\\\" width=\\\"400\\\" height=\\\"400\\\"></image>\""
     ],
     "language": "python",
     "metadata": {},
     "outputs": [
      {
       "html": [
        "<img src=\"http://tineye.com/images/imageurl-firefox.png\" width=\"400\" height=\"400\"></image>"
       ],
       "metadata": {},
       "output_type": "display_data"
      },
      {
       "output_type": "stream",
       "stream": "stdout",
       "text": [
        "- : unit = ()\n"
       ]
      }
     ],
     "prompt_number": 39
    },
    {
     "cell_type": "heading",
     "level": 4,
     "metadata": {},
     "source": [
      "PNG images"
     ]
    },
    {
     "cell_type": "markdown",
     "metadata": {},
     "source": [
      "Images work similarly except they require base64 encoding."
     ]
    },
    {
     "cell_type": "code",
     "collapsed": false,
     "input": [
      "let () = Iocaml.suppress_all true;;\n",
      "#mod_use \"/home/andyman/dev/tools/ocaml/iocaml/iocaml/png.ml\";;\n",
      "let width, height = 32,32;;\n",
      "let pixels = Array.init (width*height) (fun i -> i);;"
     ],
     "language": "python",
     "metadata": {},
     "outputs": [],
     "prompt_number": 51
    },
    {
     "cell_type": "code",
     "collapsed": false,
     "input": [
      "Iocaml.suppress_all false;\n",
      "Png.write_png_chnl Iocaml.mime pixels width height;\n",
      "Iocaml.send_mime ~base64:true \"image/png\""
     ],
     "language": "python",
     "metadata": {},
     "outputs": [
      {
       "metadata": {},
       "output_type": "display_data",
       "png": "[encoded data removed]"
      },
      {
       "output_type": "stream",
       "stream": "stdout",
       "text": [
        "- : unit = ()\n"
       ]
      }
     ],
     "prompt_number": 53
    }
   ],
   "metadata": {}
  }
 ]
}