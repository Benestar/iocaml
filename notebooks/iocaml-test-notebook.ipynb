{
  "worksheets": [
    {
      "cells": [
        {
          "source": [
            "Basic interaction"
          ],
          "metadata": {},
          "cell_type": "heading",
          "level": 1
        },
        {
          "source": [
            "IOCaml is a basic OCaml kernel for IPython.\n",
            "\n",
            "Code can be written in notebook cells and is executed by the OCaml toploop when ctrl-return or shift-return is pressed"
          ],
          "metadata": {},
          "cell_type": "markdown"
        },
        {
          "outputs": [
            {
              "text": [
                "\tCamlp4 Parsing version 4.02.1\n",
                "\n"
              ],
              "output_type": "stream",
              "stream": "stdout"
            },
            {
              "html": [
                "<pre style=\"color:slategray;max-height:100px;overflow:hidden\" \n",
                "onclick=\"\n",
                "if (this.style.maxHeight === 'none') \n",
                "    this.style.maxHeight = '100px';\n",
                "else\n",
                "    this.style.maxHeight = 'none'; \n",
                "\">val a : int = 23\n",
                "</pre>"
              ],
              "output_type": "pyout",
              "prompt_number": 1,
              "metadata": {}
            }
          ],
          "input": [
            "let a = 23"
          ],
          "metadata": {},
          "cell_type": "code",
          "prompt_number": 1,
          "language": "python",
          "collapsed": false
        },
        {
          "source": [
            "Note that you do not need \";;\" at the end of the statement.  The code in each cell is read as if it were a file being loaded into the top loop.  Multiple expressions can be entered in each cell."
          ],
          "metadata": {},
          "cell_type": "markdown"
        },
        {
          "outputs": [
            {
              "html": [
                "<pre style=\"color:slategray;max-height:100px;overflow:hidden\" \n",
                "onclick=\"\n",
                "if (this.style.maxHeight === 'none') \n",
                "    this.style.maxHeight = '100px';\n",
                "else\n",
                "    this.style.maxHeight = 'none'; \n",
                "\">val b : string = &quot;hello&quot;\n",
                "</pre>"
              ],
              "output_type": "pyout",
              "prompt_number": 2,
              "metadata": {}
            },
            {
              "html": [
                "<pre style=\"color:slategray;max-height:100px;overflow:hidden\" \n",
                "onclick=\"\n",
                "if (this.style.maxHeight === 'none') \n",
                "    this.style.maxHeight = '100px';\n",
                "else\n",
                "    this.style.maxHeight = 'none'; \n",
                "\">val c : string = &quot;world&quot;\n",
                "</pre>"
              ],
              "output_type": "pyout",
              "prompt_number": 2,
              "metadata": {}
            },
            {
              "html": [
                "<pre style=\"color:slategray;max-height:100px;overflow:hidden\" \n",
                "onclick=\"\n",
                "if (this.style.maxHeight === 'none') \n",
                "    this.style.maxHeight = '100px';\n",
                "else\n",
                "    this.style.maxHeight = 'none'; \n",
                "\">val d : string = &quot;hello world&quot;\n",
                "</pre>"
              ],
              "output_type": "pyout",
              "prompt_number": 2,
              "metadata": {}
            }
          ],
          "input": [
            "let b = \"hello\"\n",
            "let c = \"world\"\n",
            "let d = b ^ \" \" ^ c"
          ],
          "metadata": {},
          "cell_type": "code",
          "prompt_number": 2,
          "language": "python",
          "collapsed": false
        },
        {
          "source": [
            "You can load system libraries as normal."
          ],
          "metadata": {},
          "cell_type": "markdown"
        },
        {
          "outputs": [
            {
              "text": [
                "\tCamlp4 Parsing version 4.02.1\n",
                "\n"
              ],
              "output_type": "stream",
              "stream": "stdout"
            },
            {
              "text": [
                "- : unit = ()\n"
              ],
              "output_type": "stream",
              "stream": "stdout"
            },
            {
              "text": [
                "Findlib has been successfully loaded. Additional directives:\n",
                "  #require \"package\";;      to load a package\n",
                "  #list;;                   to list the available packages\n",
                "  #camlp4o;;                to load camlp4 (standard syntax)\n",
                "  #camlp4r;;                to load camlp4 (revised syntax)\n",
                "  #predicates \"p,q,...\";;   to set these predicates\n",
                "  Topfind.reset();;         to force that packages will be reloaded\n",
                "  #thread;;                 to enable threads\n",
                "\n",
                "- : unit = ()\n"
              ],
              "output_type": "stream",
              "stream": "stdout"
            }
          ],
          "input": [
            "#use \"topfind\""
          ],
          "metadata": {},
          "cell_type": "code",
          "prompt_number": 1,
          "language": "python",
          "collapsed": false
        },
        {
          "outputs": [
            {
              "text": [
                "/home/andyman/.opam/4.02.1/lib/ocaml/bigarray.cma: loaded\n"
              ],
              "output_type": "stream",
              "stream": "stderr"
            }
          ],
          "input": [
            "#require \"bigarray\""
          ],
          "metadata": {},
          "cell_type": "code",
          "prompt_number": 4,
          "language": "python",
          "collapsed": false
        },
        {
          "outputs": [
            {
              "html": [
                "<pre style=\"color:slategray;max-height:100px;overflow:hidden\" \n",
                "onclick=\"\n",
                "if (this.style.maxHeight === 'none') \n",
                "    this.style.maxHeight = '100px';\n",
                "else\n",
                "    this.style.maxHeight = 'none'; \n",
                "\">- : ('a, 'b, 'c) Bigarray.Array1.t -&gt; int = &lt;fun&gt;\n",
                "</pre>"
              ],
              "output_type": "pyout",
              "prompt_number": 5,
              "metadata": {}
            }
          ],
          "input": [
            "Bigarray.Array1.dim"
          ],
          "metadata": {},
          "cell_type": "code",
          "prompt_number": 5,
          "language": "python",
          "collapsed": false
        },
        {
          "source": [
            "Errors are labelled with **file [cell number]**"
          ],
          "metadata": {},
          "cell_type": "markdown"
        },
        {
          "outputs": [
            {
              "html": [
                "<pre style=\"color:slategray;max-height:100px;overflow:hidden\" \n",
                "onclick=\"\n",
                "if (this.style.maxHeight === 'none') \n",
                "    this.style.maxHeight = '100px';\n",
                "else\n",
                "    this.style.maxHeight = 'none'; \n",
                "\">val a : int = 1\n",
                "</pre>"
              ],
              "output_type": "pyout",
              "prompt_number": 6,
              "metadata": {}
            },
            {
              "html": [
                "<pre style=\"color:slategray;max-height:100px;overflow:hidden\" \n",
                "onclick=\"\n",
                "if (this.style.maxHeight === 'none') \n",
                "    this.style.maxHeight = '100px';\n",
                "else\n",
                "    this.style.maxHeight = 'none'; \n",
                "\">val b : int = 2\n",
                "</pre>"
              ],
              "output_type": "pyout",
              "prompt_number": 6,
              "metadata": {}
            },
            {
              "html": [
                "<pre style=\"color:red;max-height:100px;overflow:hidden\" \n",
                "onclick=\"\n",
                "if (this.style.maxHeight === 'none') \n",
                "    this.style.maxHeight = '100px';\n",
                "else\n",
                "    this.style.maxHeight = 'none'; \n",
                "\">File &quot;[6]&quot;, line 3, characters 16-19:\n",
                "Error: This expression has type float but an expression was expected of type\n",
                "         int\n",
                "Characters 36-39:\n",
                "  let c = a + b + 1.0\n",
                "                  ^^^\n",
                "</pre>"
              ],
              "output_type": "pyout",
              "prompt_number": 6,
              "metadata": {}
            }
          ],
          "input": [
            "let a = 1\n",
            "let b = 2\n",
            "let c = a + b + 1.0"
          ],
          "metadata": {},
          "cell_type": "code",
          "prompt_number": 6,
          "language": "python",
          "collapsed": false
        },
        {
          "source": [
            "Basic output"
          ],
          "metadata": {},
          "cell_type": "heading",
          "level": 1
        },
        {
          "source": [
            "There are three basic output types; messages from the compiler, stdout and stderr.  All three are sent to the notebook."
          ],
          "metadata": {},
          "cell_type": "markdown"
        },
        {
          "outputs": [
            {
              "text": [
                "hello"
              ],
              "output_type": "stream",
              "stream": "stdout"
            },
            {
              "text": [
                "world"
              ],
              "output_type": "stream",
              "stream": "stderr"
            },
            {
              "text": [
                "- : unit = ()\n"
              ],
              "output_type": "stream",
              "stream": "stdout"
            }
          ],
          "input": [
            "Printf.printf \"hello\";\n",
            "Printf.fprintf stderr \"world\""
          ],
          "metadata": {},
          "cell_type": "code",
          "prompt_number": 7,
          "language": "python",
          "collapsed": false
        },
        {
          "source": [
            "Data is sent to the *current* cell as it is generated."
          ],
          "metadata": {},
          "cell_type": "markdown"
        },
        {
          "outputs": [
            {
              "text": [
                "/home/andyman/.opam/4.01.0/lib/ocaml/threads: added to search path\n",
                "/home/andyman/.opam/4.01.0/lib/ocaml/threads/threads.cma: loaded\n"
              ],
              "output_type": "stream",
              "stream": "stderr"
            },
            { "text": [], "output_type": "stream", "stream": "stdout" }
          ],
          "input": [
            "#thread;;"
          ],
          "metadata": {},
          "cell_type": "code",
          "prompt_number": 8,
          "language": "python",
          "collapsed": false
        },
        {
          "outputs": [
            {
              "text": [
                "hello world 0\n"
              ],
              "output_type": "stream",
              "stream": "stdout"
            },
            {
              "text": [
                "- : Thread.t = <abstr>\n"
              ],
              "output_type": "stream",
              "stream": "stdout"
            },
            {
              "text": [
                "hello world 1\n"
              ],
              "output_type": "stream",
              "stream": "stdout"
            },
            {
              "text": [
                "hello world 2\n"
              ],
              "output_type": "stream",
              "stream": "stdout"
            },
            {
              "text": [
                "hello world 3\n"
              ],
              "output_type": "stream",
              "stream": "stdout"
            },
            {
              "text": [
                "hello world 4\n"
              ],
              "output_type": "stream",
              "stream": "stdout"
            },
            {
              "text": [
                "hello world 5\n"
              ],
              "output_type": "stream",
              "stream": "stdout"
            }
          ],
          "input": [
            "Thread.create (fun () -> for i=0 to 5 do Printf.printf \"hello world %i\\n%!\" i; Unix.sleep 1 done) ()"
          ],
          "metadata": {},
          "cell_type": "code",
          "prompt_number": 9,
          "language": "python",
          "collapsed": false
        },
        {
          "source": [
            "The current cell is the one just executed, so the above could get confusing..."
          ],
          "metadata": {},
          "cell_type": "markdown"
        },
        {
          "outputs": [
            {
              "text": [
                "hello world 0\n"
              ],
              "output_type": "stream",
              "stream": "stdout"
            },
            {
              "text": [
                "- : Thread.t = <abstr>\n"
              ],
              "output_type": "stream",
              "stream": "stdout"
            },
            {
              "text": [
                "hello world 1\n"
              ],
              "output_type": "stream",
              "stream": "stdout"
            },
            {
              "text": [
                "hello world 2\n"
              ],
              "output_type": "stream",
              "stream": "stdout"
            }
          ],
          "input": [
            "Thread.create (fun () -> for i=0 to 5 do Printf.printf \"hello world %i\\n%!\" i; Unix.sleep 1 done) ()"
          ],
          "metadata": {},
          "cell_type": "code",
          "prompt_number": 10,
          "language": "python",
          "collapsed": false
        },
        {
          "outputs": [
            {
              "text": [
                "hello world in the middle\n"
              ],
              "output_type": "stream",
              "stream": "stdout"
            },
            {
              "html": [
                "<pre style=\"color:slategray;max-height:100px;overflow:hidden\" \n",
                "onclick=\"\n",
                "if (this.style.maxHeight === 'none') \n",
                "    this.style.maxHeight = '100px';\n",
                "else\n",
                "    this.style.maxHeight = 'none'; \n",
                "\">- : unit = ()\n",
                "</pre>"
              ],
              "output_type": "pyout",
              "prompt_number": 12,
              "metadata": {}
            }
          ],
          "input": [
            "Printf.printf \"hello world in the middle\\n%!\""
          ],
          "metadata": {},
          "cell_type": "code",
          "prompt_number": 12,
          "language": "python",
          "collapsed": false
        },
        {
          "source": [
            "Iocaml API"
          ],
          "metadata": {},
          "cell_type": "heading",
          "level": 1
        },
        {
          "source": [
            "Some functions are available for controlling interaction with the toploop and notebook in the ```Iocaml``` module"
          ],
          "metadata": {},
          "cell_type": "markdown"
        },
        {
          "outputs": [
            {
              "text": [
                "/home/andyman/.opam/4.02.1/lib/iocaml-kernel: added to search path\n"
              ],
              "output_type": "stream",
              "stream": "stderr"
            }
          ],
          "input": [
            "#require \"iocaml-kernel.notebook\""
          ],
          "metadata": {},
          "cell_type": "code",
          "prompt_number": 2,
          "language": "python",
          "collapsed": false
        },
        {
          "source": [
            "There are a few functions for disabling output."
          ],
          "metadata": {},
          "cell_type": "markdown"
        },
        {
          "outputs": [
            {
              "html": [
                "<pre style=\"color:slategray;max-height:100px;overflow:hidden\" \n",
                "onclick=\"\n",
                "if (this.style.maxHeight === 'none') \n",
                "    this.style.maxHeight = '100px';\n",
                "else\n",
                "    this.style.maxHeight = 'none'; \n",
                "\">- : bool -&gt; unit = &lt;fun&gt;\n",
                "</pre>"
              ],
              "output_type": "pyout",
              "prompt_number": 3,
              "metadata": {}
            },
            {
              "html": [
                "<pre style=\"color:slategray;max-height:100px;overflow:hidden\" \n",
                "onclick=\"\n",
                "if (this.style.maxHeight === 'none') \n",
                "    this.style.maxHeight = '100px';\n",
                "else\n",
                "    this.style.maxHeight = 'none'; \n",
                "\">- : bool -&gt; unit = &lt;fun&gt;\n",
                "</pre>"
              ],
              "output_type": "pyout",
              "prompt_number": 3,
              "metadata": {}
            },
            {
              "html": [
                "<pre style=\"color:slategray;max-height:100px;overflow:hidden\" \n",
                "onclick=\"\n",
                "if (this.style.maxHeight === 'none') \n",
                "    this.style.maxHeight = '100px';\n",
                "else\n",
                "    this.style.maxHeight = 'none'; \n",
                "\">- : bool -&gt; unit = &lt;fun&gt;\n",
                "</pre>"
              ],
              "output_type": "pyout",
              "prompt_number": 3,
              "metadata": {}
            },
            {
              "html": [
                "<pre style=\"color:slategray;max-height:100px;overflow:hidden\" \n",
                "onclick=\"\n",
                "if (this.style.maxHeight === 'none') \n",
                "    this.style.maxHeight = '100px';\n",
                "else\n",
                "    this.style.maxHeight = 'none'; \n",
                "\">- : bool -&gt; unit = &lt;fun&gt;\n",
                "</pre>"
              ],
              "output_type": "pyout",
              "prompt_number": 3,
              "metadata": {}
            }
          ],
          "input": [
            "Iocaml.suppress_stdout;;\n",
            "Iocaml.suppress_stderr;;\n",
            "Iocaml.suppress_compiler;;\n",
            "Iocaml.suppress_all;;"
          ],
          "metadata": {},
          "cell_type": "code",
          "prompt_number": 3,
          "language": "python",
          "collapsed": false
        },
        {
          "outputs": [
            {
              "text": [
                "I'm back!\n"
              ],
              "output_type": "stream",
              "stream": "stdout"
            },
            {
              "html": [
                "<pre style=\"color:slategray;max-height:100px;overflow:hidden\" \n",
                "onclick=\"\n",
                "if (this.style.maxHeight === 'none') \n",
                "    this.style.maxHeight = '100px';\n",
                "else\n",
                "    this.style.maxHeight = 'none'; \n",
                "\">- : unit = ()\n",
                "</pre>"
              ],
              "output_type": "pyout",
              "prompt_number": 4,
              "metadata": {}
            }
          ],
          "input": [
            "Iocaml.suppress_stdout true;\n",
            "Printf.printf \"where am I?\\n%!\";\n",
            "Iocaml.suppress_stdout false;\n",
            "Printf.printf \"I'm back!\\n%!\";"
          ],
          "metadata": {},
          "cell_type": "code",
          "prompt_number": 4,
          "language": "python",
          "collapsed": false
        },
        {
          "source": [
            "The kernel has a command line option `-package pkg` which automatically `#use`'s topfind and loads the required package.  It can be specified multiple times to load extra packages.  The default ipython configuration file automatically loads the iocaml package."
          ],
          "metadata": {},
          "cell_type": "markdown"
        },
        {
          "source": [
            "Rich media output"
          ],
          "metadata": {},
          "cell_type": "heading",
          "level": 1
        },
        {
          "source": [
            "Data can be sent to the front end and displayed as media.  The Iocaml API provides 2 ways to do this."
          ],
          "metadata": {},
          "cell_type": "markdown"
        },
        {
          "outputs": [
            {
              "html": [
                "<pre style=\"color:slategray;max-height:100px;overflow:hidden\" \n",
                "onclick=\"\n",
                "if (this.style.maxHeight === 'none') \n",
                "    this.style.maxHeight = '100px';\n",
                "else\n",
                "    this.style.maxHeight = 'none'; \n",
                "\">- : ?context:Iocaml.cell_context -&gt; ?base64:bool -&gt; string -&gt; string -&gt; unit\n",
                "= &lt;fun&gt;\n",
                "</pre>"
              ],
              "output_type": "pyout",
              "prompt_number": 5,
              "metadata": {}
            }
          ],
          "input": [
            "Iocaml.display"
          ],
          "metadata": {},
          "cell_type": "code",
          "prompt_number": 5,
          "language": "python",
          "collapsed": false
        },
        {
          "source": [
            "```Iocaml.display ~base64 mime_type \"data to display\"``` displays the data with the given mime type.  The optional base64 parameter will encode the data if that is required."
          ],
          "metadata": {},
          "cell_type": "markdown"
        },
        {
          "outputs": [
            {
              "html": [
                "<pre style=\"color:slategray;max-height:100px;overflow:hidden\" \n",
                "onclick=\"\n",
                "if (this.style.maxHeight === 'none') \n",
                "    this.style.maxHeight = '100px';\n",
                "else\n",
                "    this.style.maxHeight = 'none'; \n",
                "\">- : out_channel = &lt;abstr&gt;\n",
                "</pre>"
              ],
              "output_type": "pyout",
              "prompt_number": 6,
              "metadata": {}
            },
            {
              "html": [
                "<pre style=\"color:slategray;max-height:100px;overflow:hidden\" \n",
                "onclick=\"\n",
                "if (this.style.maxHeight === 'none') \n",
                "    this.style.maxHeight = '100px';\n",
                "else\n",
                "    this.style.maxHeight = 'none'; \n",
                "\">- : ?context:Iocaml.cell_context -&gt; ?base64:bool -&gt; string -&gt; unit = &lt;fun&gt;\n",
                "</pre>"
              ],
              "output_type": "pyout",
              "prompt_number": 6,
              "metadata": {}
            }
          ],
          "input": [
            "Iocaml.mime;;\n",
            "Iocaml.send_mime;;"
          ],
          "metadata": {},
          "cell_type": "code",
          "prompt_number": 6,
          "language": "python",
          "collapsed": false
        },
        {
          "source": [
            "Alternatively data can be written to ```Iocaml.mime : out_channel```.  When all the data is ready call ```Iocaml.send_mime ~base64 mime_type```  to display it."
          ],
          "metadata": {},
          "cell_type": "markdown"
        },
        {
          "source": [
            "HTML output"
          ],
          "metadata": {},
          "cell_type": "heading",
          "level": 4
        },
        {
          "outputs": [
            {
              "html": [
                "<b>hello </b><i>world</i>"
              ],
              "output_type": "display_data",
              "metadata": {}
            },
            {
              "html": [
                "<pre style=\"color:slategray;max-height:100px;overflow:hidden\" \n",
                "onclick=\"\n",
                "if (this.style.maxHeight === 'none') \n",
                "    this.style.maxHeight = '100px';\n",
                "else\n",
                "    this.style.maxHeight = 'none'; \n",
                "\">- : unit = ()\n",
                "</pre>"
              ],
              "output_type": "pyout",
              "prompt_number": 7,
              "metadata": {}
            }
          ],
          "input": [
            "Iocaml.display \"text/html\" \"<b>hello </b><i>world</i>\""
          ],
          "metadata": {},
          "cell_type": "code",
          "prompt_number": 7,
          "language": "python",
          "collapsed": false
        },
        {
          "source": [
            "This is a more complex example which renders a ```string array array``` as a table"
          ],
          "metadata": {},
          "cell_type": "markdown"
        },
        {
          "outputs": [
            {
              "html": [
                "<pre style=\"color:slategray;max-height:100px;overflow:hidden\" \n",
                "onclick=\"\n",
                "if (this.style.maxHeight === 'none') \n",
                "    this.style.maxHeight = '100px';\n",
                "else\n",
                "    this.style.maxHeight = 'none'; \n",
                "\">val to_table : string array array -&gt; unit = &lt;fun&gt;\n",
                "</pre>"
              ],
              "output_type": "pyout",
              "prompt_number": 8,
              "metadata": {}
            }
          ],
          "input": [
            "open Printf\n",
            "let to_table a = \n",
            "    let open Iocaml in\n",
            "    let open Printf in\n",
            "    fprintf mime \"<table>\\n\";\n",
            "    Array.iter (fun data -> \n",
            "        fprintf mime \"<tr>\\n\";\n",
            "        Array.iter (fun data -> \n",
            "            fprintf mime \"<td>%s</td>\" data\n",
            "        ) data;\n",
            "        fprintf mime \"</tr>\\n\";\n",
            "    ) a;\n",
            "    fprintf mime \"</table>\""
          ],
          "metadata": {},
          "cell_type": "code",
          "prompt_number": 8,
          "language": "python",
          "collapsed": false
        },
        {
          "outputs": [
            {
              "html": [
                "<table>\n",
                "<tr>\n",
                "<td>row=0 col=0\n",
                "</td><td>row=0 col=1\n",
                "</td><td>row=0 col=2\n",
                "</td><td>row=0 col=3\n",
                "</td><td>row=0 col=4\n",
                "</td><td>row=0 col=5\n",
                "</td></tr>\n",
                "<tr>\n",
                "<td>row=1 col=0\n",
                "</td><td>row=1 col=1\n",
                "</td><td>row=1 col=2\n",
                "</td><td>row=1 col=3\n",
                "</td><td>row=1 col=4\n",
                "</td><td>row=1 col=5\n",
                "</td></tr>\n",
                "<tr>\n",
                "<td>row=2 col=0\n",
                "</td><td>row=2 col=1\n",
                "</td><td>row=2 col=2\n",
                "</td><td>row=2 col=3\n",
                "</td><td>row=2 col=4\n",
                "</td><td>row=2 col=5\n",
                "</td></tr>\n",
                "<tr>\n",
                "<td>row=3 col=0\n",
                "</td><td>row=3 col=1\n",
                "</td><td>row=3 col=2\n",
                "</td><td>row=3 col=3\n",
                "</td><td>row=3 col=4\n",
                "</td><td>row=3 col=5\n",
                "</td></tr>\n",
                "<tr>\n",
                "<td>row=4 col=0\n",
                "</td><td>row=4 col=1\n",
                "</td><td>row=4 col=2\n",
                "</td><td>row=4 col=3\n",
                "</td><td>row=4 col=4\n",
                "</td><td>row=4 col=5\n",
                "</td></tr>\n",
                "<tr>\n",
                "<td>row=5 col=0\n",
                "</td><td>row=5 col=1\n",
                "</td><td>row=5 col=2\n",
                "</td><td>row=5 col=3\n",
                "</td><td>row=5 col=4\n",
                "</td><td>row=5 col=5\n",
                "</td></tr>\n",
                "<tr>\n",
                "<td>row=6 col=0\n",
                "</td><td>row=6 col=1\n",
                "</td><td>row=6 col=2\n",
                "</td><td>row=6 col=3\n",
                "</td><td>row=6 col=4\n",
                "</td><td>row=6 col=5\n",
                "</td></tr>\n",
                "<tr>\n",
                "<td>row=7 col=0\n",
                "</td><td>row=7 col=1\n",
                "</td><td>row=7 col=2\n",
                "</td><td>row=7 col=3\n",
                "</td><td>row=7 col=4\n",
                "</td><td>row=7 col=5\n",
                "</td></tr>\n",
                "</table>"
              ],
              "output_type": "display_data",
              "metadata": {}
            },
            {
              "html": [
                "<pre style=\"color:slategray;max-height:100px;overflow:hidden\" \n",
                "onclick=\"\n",
                "if (this.style.maxHeight === 'none') \n",
                "    this.style.maxHeight = '100px';\n",
                "else\n",
                "    this.style.maxHeight = 'none'; \n",
                "\">- : unit = ()\n",
                "</pre>"
              ],
              "output_type": "pyout",
              "prompt_number": 9,
              "metadata": {}
            },
            {
              "html": [
                "<pre style=\"color:slategray;max-height:100px;overflow:hidden\" \n",
                "onclick=\"\n",
                "if (this.style.maxHeight === 'none') \n",
                "    this.style.maxHeight = '100px';\n",
                "else\n",
                "    this.style.maxHeight = 'none'; \n",
                "\">- : unit = ()\n",
                "</pre>"
              ],
              "output_type": "pyout",
              "prompt_number": 9,
              "metadata": {}
            }
          ],
          "input": [
            "to_table (Array.init 8 (fun row -> Array.init 6 (fun col -> sprintf \"row=%i col=%i\\n\" row col)));;\n",
            "Iocaml.send_mime \"text/html\""
          ],
          "metadata": {},
          "cell_type": "code",
          "prompt_number": 9,
          "language": "python",
          "collapsed": false
        },
        {
          "source": [
            "You can embed images from a url with html."
          ],
          "metadata": {},
          "cell_type": "markdown"
        },
        {
          "outputs": [
            {
              "html": [
                "<img src=\"http://tineye.com/images/imageurl-firefox.png\" width=\"400\" height=\"400\"></image>"
              ],
              "output_type": "display_data",
              "metadata": {}
            },
            {
              "html": [
                "<pre style=\"color:slategray;max-height:100px;overflow:hidden\" \n",
                "onclick=\"\n",
                "if (this.style.maxHeight === 'none') \n",
                "    this.style.maxHeight = '100px';\n",
                "else\n",
                "    this.style.maxHeight = 'none'; \n",
                "\">- : unit = ()\n",
                "</pre>"
              ],
              "output_type": "pyout",
              "prompt_number": 10,
              "metadata": {}
            }
          ],
          "input": [
            "Iocaml.display \"text/html\" \"<img src=\\\"http://tineye.com/images/imageurl-firefox.png\\\" width=\\\"400\\\" height=\\\"400\\\"></image>\""
          ],
          "metadata": {},
          "cell_type": "code",
          "prompt_number": 10,
          "language": "python",
          "collapsed": false
        },
        {
          "source": [
            "PNG images"
          ],
          "metadata": {},
          "cell_type": "heading",
          "level": 4
        },
        {
          "source": [
            "Images work similarly except they require base64 encoding."
          ],
          "metadata": {},
          "cell_type": "markdown"
        },
        {
          "outputs": [],
          "input": [
            "let () = Iocaml.suppress_all true;;\n",
            "#mod_use \"/home/andyman/dev/tools/ocaml/iocaml/iocaml/png.ml\";;\n",
            "let width, height = 32,32;;\n",
            "let pixels = Array.init (width*height) (fun i -> i);;"
          ],
          "metadata": {},
          "cell_type": "code",
          "prompt_number": 11,
          "language": "python",
          "collapsed": false
        },
        {
          "outputs": [
            {
              "output_type": "display_data",
              "png":
                "[encoded data removed]",
              "metadata": {}
            },
            {
              "html": [
                "<pre style=\"color:slategray;max-height:100px;overflow:hidden\" \n",
                "onclick=\"\n",
                "if (this.style.maxHeight === 'none') \n",
                "    this.style.maxHeight = '100px';\n",
                "else\n",
                "    this.style.maxHeight = 'none'; \n",
                "\">- : unit = ()\n",
                "</pre>"
              ],
              "output_type": "pyout",
              "prompt_number": 12,
              "metadata": {}
            }
          ],
          "input": [
            "Iocaml.suppress_all false;\n",
            "Png.write_png_chnl Iocaml.mime pixels width height;\n",
            "Iocaml.send_mime ~base64:true \"image/png\""
          ],
          "metadata": {},
          "cell_type": "code",
          "prompt_number": 12,
          "language": "python",
          "collapsed": false
        },
        {
          "outputs": [
            {
              "html": [
                "<pre style=\"color:red;max-height:100px;overflow:hidden\" \n",
                "onclick=\"\n",
                "if (this.style.maxHeight === 'none') \n",
                "    this.style.maxHeight = '100px';\n",
                "else\n",
                "    this.style.maxHeight = 'none'; \n",
                "\">Syntax error.</pre>"
              ],
              "output_type": "pyout",
              "prompt_number": 13,
              "metadata": {}
            }
          ],
          "input": [],
          "metadata": {},
          "cell_type": "code",
          "prompt_number": 13,
          "language": "python",
          "collapsed": false
        },
        {
          "outputs": [],
          "input": [],
          "metadata": {},
          "cell_type": "code",
          "language": "python",
          "collapsed": false
        }
      ],
      "metadata": {}
    }
  ],
  "metadata": { "name": "", "language": "ocaml" },
  "nbformat": 3,
  "nbformat_minor": 0
}